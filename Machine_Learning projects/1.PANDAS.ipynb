{
 "cells": [
  {
   "cell_type": "code",
   "execution_count": 1,
   "id": "0f59a957",
   "metadata": {},
   "outputs": [],
   "source": [
    "#PANDAS TUTORIAL\n",
    "import pandas as pd"
   ]
  },
  {
   "cell_type": "code",
   "execution_count": 4,
   "id": "d39d5cc3",
   "metadata": {},
   "outputs": [
    {
     "name": "stdout",
     "output_type": "stream",
     "text": [
      "1.2.4\n"
     ]
    }
   ],
   "source": [
    "print(pd.__version__)"
   ]
  },
  {
   "cell_type": "code",
   "execution_count": 7,
   "id": "71244ec8",
   "metadata": {},
   "outputs": [],
   "source": [
    "arr=[0,1,2,3,4]"
   ]
  },
  {
   "cell_type": "code",
   "execution_count": 8,
   "id": "b6150465",
   "metadata": {},
   "outputs": [
    {
     "data": {
      "text/plain": [
       "0    0\n",
       "1    1\n",
       "2    2\n",
       "3    3\n",
       "4    4\n",
       "dtype: int64"
      ]
     },
     "execution_count": 8,
     "metadata": {},
     "output_type": "execute_result"
    }
   ],
   "source": [
    "s1=pd.Series(arr)\n",
    "s1"
   ]
  },
  {
   "cell_type": "code",
   "execution_count": 10,
   "id": "dc487016",
   "metadata": {},
   "outputs": [
    {
     "data": {
      "text/plain": [
       "1    0\n",
       "2    1\n",
       "3    2\n",
       "4    3\n",
       "5    4\n",
       "dtype: int64"
      ]
     },
     "execution_count": 10,
     "metadata": {},
     "output_type": "execute_result"
    }
   ],
   "source": [
    "order=[1,2,3,4,5]\n",
    "s2 = pd.Series(arr,index=order)\n",
    "s2"
   ]
  },
  {
   "cell_type": "code",
   "execution_count": 12,
   "id": "e9642aa5",
   "metadata": {},
   "outputs": [],
   "source": [
    "import numpy as np"
   ]
  },
  {
   "cell_type": "code",
   "execution_count": 15,
   "id": "8a9d6600",
   "metadata": {},
   "outputs": [
    {
     "data": {
      "text/plain": [
       "a   -0.664182\n",
       "b    0.768953\n",
       "c    0.277144\n",
       "d   -1.184471\n",
       "e   -0.607861\n",
       "dtype: float64"
      ]
     },
     "execution_count": 15,
     "metadata": {},
     "output_type": "execute_result"
    }
   ],
   "source": [
    "n = np.random.randn(5)\n",
    "index=[\"a\",\"b\",\"c\",\"d\",\"e\"]\n",
    "s3 = pd.Series(n,index=index)\n",
    "s3"
   ]
  },
  {
   "cell_type": "code",
   "execution_count": 18,
   "id": "626e9d17",
   "metadata": {},
   "outputs": [
    {
     "data": {
      "text/plain": [
       "a    1\n",
       "b    2\n",
       "c    3\n",
       "d    4\n",
       "e    5\n",
       "dtype: int64"
      ]
     },
     "execution_count": 18,
     "metadata": {},
     "output_type": "execute_result"
    }
   ],
   "source": [
    "#create series from dictionary\n",
    "d = {\"a\":1,\"b\":2,\"c\":3,\"d\":4,\"e\":5}\n",
    "s4 = pd.Series(d)\n",
    "s4"
   ]
  },
  {
   "cell_type": "code",
   "execution_count": 23,
   "id": "8a712814",
   "metadata": {},
   "outputs": [
    {
     "name": "stdout",
     "output_type": "stream",
     "text": [
      "D    0\n",
      "B    1\n",
      "A    2\n",
      "C    3\n",
      "E    4\n",
      "dtype: int64\n"
     ]
    },
    {
     "data": {
      "text/plain": [
       "D    0\n",
       "B    1\n",
       "A    2\n",
       "C    3\n",
       "E    4\n",
       "dtype: int64"
      ]
     },
     "execution_count": 23,
     "metadata": {},
     "output_type": "execute_result"
    }
   ],
   "source": [
    "#modify the index\n",
    "print(s1)\n",
    "s1\n",
    "s1.index={\"A\",\"B\",\"C\",\"D\",\"E\"}\n",
    "s1"
   ]
  },
  {
   "cell_type": "code",
   "execution_count": 27,
   "id": "d614adba",
   "metadata": {},
   "outputs": [
    {
     "data": {
      "text/plain": [
       "C    3\n",
       "E    4\n",
       "dtype: int64"
      ]
     },
     "execution_count": 27,
     "metadata": {},
     "output_type": "execute_result"
    }
   ],
   "source": [
    "s1[:3]"
   ]
  },
  {
   "cell_type": "code",
   "execution_count": 28,
   "id": "aa447859",
   "metadata": {},
   "outputs": [],
   "source": [
    "s5=s2.append(s3)"
   ]
  },
  {
   "cell_type": "code",
   "execution_count": 29,
   "id": "76477fb4",
   "metadata": {},
   "outputs": [
    {
     "data": {
      "text/plain": [
       "1    0.000000\n",
       "2    1.000000\n",
       "3    2.000000\n",
       "4    3.000000\n",
       "5    4.000000\n",
       "a   -0.664182\n",
       "b    0.768953\n",
       "c    0.277144\n",
       "d   -1.184471\n",
       "e   -0.607861\n",
       "dtype: float64"
      ]
     },
     "execution_count": 29,
     "metadata": {},
     "output_type": "execute_result"
    }
   ],
   "source": [
    "s5"
   ]
  },
  {
   "cell_type": "code",
   "execution_count": 30,
   "id": "9a4a8f72",
   "metadata": {},
   "outputs": [
    {
     "data": {
      "text/plain": [
       "1    0.000000\n",
       "2    1.000000\n",
       "3    2.000000\n",
       "4    3.000000\n",
       "5    4.000000\n",
       "a   -0.664182\n",
       "b    0.768953\n",
       "c    0.277144\n",
       "d   -1.184471\n",
       "dtype: float64"
      ]
     },
     "execution_count": 30,
     "metadata": {},
     "output_type": "execute_result"
    }
   ],
   "source": [
    "s5.drop(\"e\")"
   ]
  },
  {
   "cell_type": "markdown",
   "id": "8fe64d0e",
   "metadata": {},
   "source": [
    "# Operations"
   ]
  },
  {
   "cell_type": "code",
   "execution_count": 31,
   "id": "3dc4d9fd",
   "metadata": {},
   "outputs": [],
   "source": [
    "arr1 = [1,2,3,4,5,7]\n",
    "arr2 = [6,8,9,4,2]"
   ]
  },
  {
   "cell_type": "code",
   "execution_count": 32,
   "id": "432f7a4c",
   "metadata": {},
   "outputs": [],
   "source": [
    "s6=pd.Series(arr1)\n",
    "s7=pd.Series(arr2)"
   ]
  },
  {
   "cell_type": "code",
   "execution_count": 33,
   "id": "1e6afaa7",
   "metadata": {},
   "outputs": [
    {
     "data": {
      "text/plain": [
       "0     7.0\n",
       "1    10.0\n",
       "2    12.0\n",
       "3     8.0\n",
       "4     7.0\n",
       "5     NaN\n",
       "dtype: float64"
      ]
     },
     "execution_count": 33,
     "metadata": {},
     "output_type": "execute_result"
    }
   ],
   "source": [
    "s6.add(s7)"
   ]
  },
  {
   "cell_type": "code",
   "execution_count": 35,
   "id": "f41dd62f",
   "metadata": {},
   "outputs": [
    {
     "data": {
      "text/plain": [
       "0   -5.0\n",
       "1   -6.0\n",
       "2   -6.0\n",
       "3    0.0\n",
       "4    3.0\n",
       "5    NaN\n",
       "dtype: float64"
      ]
     },
     "execution_count": 35,
     "metadata": {},
     "output_type": "execute_result"
    }
   ],
   "source": [
    "s6.sub(s7)"
   ]
  },
  {
   "cell_type": "code",
   "execution_count": 36,
   "id": "6866e197",
   "metadata": {},
   "outputs": [
    {
     "data": {
      "text/plain": [
       "0     6.0\n",
       "1    16.0\n",
       "2    27.0\n",
       "3    16.0\n",
       "4    10.0\n",
       "5     NaN\n",
       "dtype: float64"
      ]
     },
     "execution_count": 36,
     "metadata": {},
     "output_type": "execute_result"
    }
   ],
   "source": [
    "s6.mul(s7)"
   ]
  },
  {
   "cell_type": "code",
   "execution_count": 37,
   "id": "b59979f1",
   "metadata": {},
   "outputs": [
    {
     "data": {
      "text/plain": [
       "0    0.166667\n",
       "1    0.250000\n",
       "2    0.333333\n",
       "3    1.000000\n",
       "4    2.500000\n",
       "5         NaN\n",
       "dtype: float64"
      ]
     },
     "execution_count": 37,
     "metadata": {},
     "output_type": "execute_result"
    }
   ],
   "source": [
    "s6.div(s7)"
   ]
  },
  {
   "cell_type": "code",
   "execution_count": 38,
   "id": "d67ea392",
   "metadata": {},
   "outputs": [
    {
     "data": {
      "text/plain": [
       "3.5"
      ]
     },
     "execution_count": 38,
     "metadata": {},
     "output_type": "execute_result"
    }
   ],
   "source": [
    "s6.median()"
   ]
  },
  {
   "cell_type": "code",
   "execution_count": 44,
   "id": "f59fda6a",
   "metadata": {},
   "outputs": [
    {
     "data": {
      "text/plain": [
       "7"
      ]
     },
     "execution_count": 44,
     "metadata": {},
     "output_type": "execute_result"
    }
   ],
   "source": [
    "max(s6)\n"
   ]
  },
  {
   "cell_type": "code",
   "execution_count": 45,
   "id": "3452db48",
   "metadata": {},
   "outputs": [
    {
     "data": {
      "text/plain": [
       "1"
      ]
     },
     "execution_count": 45,
     "metadata": {},
     "output_type": "execute_result"
    }
   ],
   "source": [
    "min(s6)"
   ]
  },
  {
   "cell_type": "code",
   "execution_count": 46,
   "id": "18a44502",
   "metadata": {},
   "outputs": [
    {
     "ename": "NameError",
     "evalue": "name 'mean' is not defined",
     "output_type": "error",
     "traceback": [
      "\u001b[0;31m---------------------------------------------------------------------------\u001b[0m",
      "\u001b[0;31mNameError\u001b[0m                                 Traceback (most recent call last)",
      "\u001b[0;32m<ipython-input-46-a89c86dea3df>\u001b[0m in \u001b[0;36m<module>\u001b[0;34m\u001b[0m\n\u001b[0;32m----> 1\u001b[0;31m \u001b[0mmean\u001b[0m\u001b[0;34m(\u001b[0m\u001b[0ms6\u001b[0m\u001b[0;34m)\u001b[0m\u001b[0;34m\u001b[0m\u001b[0;34m\u001b[0m\u001b[0m\n\u001b[0m",
      "\u001b[0;31mNameError\u001b[0m: name 'mean' is not defined"
     ]
    }
   ],
   "source": [
    "mean(s6)"
   ]
  },
  {
   "cell_type": "markdown",
   "id": "59fdb2c0",
   "metadata": {},
   "source": [
    "# Creat DataFrame"
   ]
  },
  {
   "cell_type": "code",
   "execution_count": 51,
   "id": "3c67707c",
   "metadata": {},
   "outputs": [],
   "source": [
    "dates= pd.date_range(\"today\",periods=6)\n",
    "num_arr=np.random.randn(6,4)\n",
    "\n",
    "columns=(\"A\",\"B\",\"C\",\"D\")"
   ]
  },
  {
   "cell_type": "code",
   "execution_count": 53,
   "id": "fa1d58c3",
   "metadata": {},
   "outputs": [
    {
     "data": {
      "text/html": [
       "<div>\n",
       "<style scoped>\n",
       "    .dataframe tbody tr th:only-of-type {\n",
       "        vertical-align: middle;\n",
       "    }\n",
       "\n",
       "    .dataframe tbody tr th {\n",
       "        vertical-align: top;\n",
       "    }\n",
       "\n",
       "    .dataframe thead th {\n",
       "        text-align: right;\n",
       "    }\n",
       "</style>\n",
       "<table border=\"1\" class=\"dataframe\">\n",
       "  <thead>\n",
       "    <tr style=\"text-align: right;\">\n",
       "      <th></th>\n",
       "      <th>A</th>\n",
       "      <th>B</th>\n",
       "      <th>C</th>\n",
       "      <th>D</th>\n",
       "    </tr>\n",
       "  </thead>\n",
       "  <tbody>\n",
       "    <tr>\n",
       "      <th>2022-10-21 10:10:31.956608</th>\n",
       "      <td>-0.544938</td>\n",
       "      <td>-0.746174</td>\n",
       "      <td>0.016242</td>\n",
       "      <td>-0.224872</td>\n",
       "    </tr>\n",
       "    <tr>\n",
       "      <th>2022-10-22 10:10:31.956608</th>\n",
       "      <td>0.729461</td>\n",
       "      <td>-0.332368</td>\n",
       "      <td>-1.264282</td>\n",
       "      <td>0.194093</td>\n",
       "    </tr>\n",
       "    <tr>\n",
       "      <th>2022-10-23 10:10:31.956608</th>\n",
       "      <td>1.173009</td>\n",
       "      <td>-0.441096</td>\n",
       "      <td>0.801841</td>\n",
       "      <td>1.200277</td>\n",
       "    </tr>\n",
       "    <tr>\n",
       "      <th>2022-10-24 10:10:31.956608</th>\n",
       "      <td>-0.071951</td>\n",
       "      <td>-0.897539</td>\n",
       "      <td>-1.435087</td>\n",
       "      <td>1.044633</td>\n",
       "    </tr>\n",
       "    <tr>\n",
       "      <th>2022-10-25 10:10:31.956608</th>\n",
       "      <td>1.668712</td>\n",
       "      <td>1.238444</td>\n",
       "      <td>0.566435</td>\n",
       "      <td>0.418046</td>\n",
       "    </tr>\n",
       "    <tr>\n",
       "      <th>2022-10-26 10:10:31.956608</th>\n",
       "      <td>0.584083</td>\n",
       "      <td>0.871202</td>\n",
       "      <td>-0.166414</td>\n",
       "      <td>0.474270</td>\n",
       "    </tr>\n",
       "  </tbody>\n",
       "</table>\n",
       "</div>"
      ],
      "text/plain": [
       "                                   A         B         C         D\n",
       "2022-10-21 10:10:31.956608 -0.544938 -0.746174  0.016242 -0.224872\n",
       "2022-10-22 10:10:31.956608  0.729461 -0.332368 -1.264282  0.194093\n",
       "2022-10-23 10:10:31.956608  1.173009 -0.441096  0.801841  1.200277\n",
       "2022-10-24 10:10:31.956608 -0.071951 -0.897539 -1.435087  1.044633\n",
       "2022-10-25 10:10:31.956608  1.668712  1.238444  0.566435  0.418046\n",
       "2022-10-26 10:10:31.956608  0.584083  0.871202 -0.166414  0.474270"
      ]
     },
     "execution_count": 53,
     "metadata": {},
     "output_type": "execute_result"
    }
   ],
   "source": [
    "df1 = pd.DataFrame(num_arr,index=dates,columns=columns)\n",
    "df1"
   ]
  },
  {
   "cell_type": "code",
   "execution_count": 54,
   "id": "6b7c0870",
   "metadata": {},
   "outputs": [
    {
     "data": {
      "text/plain": [
       "A    float64\n",
       "B    float64\n",
       "C    float64\n",
       "D    float64\n",
       "dtype: object"
      ]
     },
     "execution_count": 54,
     "metadata": {},
     "output_type": "execute_result"
    }
   ],
   "source": [
    "df1.dtypes"
   ]
  },
  {
   "cell_type": "code",
   "execution_count": 56,
   "id": "9461b9b0",
   "metadata": {},
   "outputs": [
    {
     "data": {
      "text/html": [
       "<div>\n",
       "<style scoped>\n",
       "    .dataframe tbody tr th:only-of-type {\n",
       "        vertical-align: middle;\n",
       "    }\n",
       "\n",
       "    .dataframe tbody tr th {\n",
       "        vertical-align: top;\n",
       "    }\n",
       "\n",
       "    .dataframe thead th {\n",
       "        text-align: right;\n",
       "    }\n",
       "</style>\n",
       "<table border=\"1\" class=\"dataframe\">\n",
       "  <thead>\n",
       "    <tr style=\"text-align: right;\">\n",
       "      <th></th>\n",
       "      <th>A</th>\n",
       "      <th>B</th>\n",
       "      <th>C</th>\n",
       "      <th>D</th>\n",
       "    </tr>\n",
       "  </thead>\n",
       "  <tbody>\n",
       "    <tr>\n",
       "      <th>2022-10-21 10:10:31.956608</th>\n",
       "      <td>-0.544938</td>\n",
       "      <td>-0.746174</td>\n",
       "      <td>0.016242</td>\n",
       "      <td>-0.224872</td>\n",
       "    </tr>\n",
       "    <tr>\n",
       "      <th>2022-10-22 10:10:31.956608</th>\n",
       "      <td>0.729461</td>\n",
       "      <td>-0.332368</td>\n",
       "      <td>-1.264282</td>\n",
       "      <td>0.194093</td>\n",
       "    </tr>\n",
       "    <tr>\n",
       "      <th>2022-10-23 10:10:31.956608</th>\n",
       "      <td>1.173009</td>\n",
       "      <td>-0.441096</td>\n",
       "      <td>0.801841</td>\n",
       "      <td>1.200277</td>\n",
       "    </tr>\n",
       "  </tbody>\n",
       "</table>\n",
       "</div>"
      ],
      "text/plain": [
       "                                   A         B         C         D\n",
       "2022-10-21 10:10:31.956608 -0.544938 -0.746174  0.016242 -0.224872\n",
       "2022-10-22 10:10:31.956608  0.729461 -0.332368 -1.264282  0.194093\n",
       "2022-10-23 10:10:31.956608  1.173009 -0.441096  0.801841  1.200277"
      ]
     },
     "execution_count": 56,
     "metadata": {},
     "output_type": "execute_result"
    }
   ],
   "source": [
    "df2=df1.head(3)\n",
    "df2"
   ]
  },
  {
   "cell_type": "code",
   "execution_count": 57,
   "id": "2c4c427d",
   "metadata": {},
   "outputs": [
    {
     "data": {
      "text/html": [
       "<div>\n",
       "<style scoped>\n",
       "    .dataframe tbody tr th:only-of-type {\n",
       "        vertical-align: middle;\n",
       "    }\n",
       "\n",
       "    .dataframe tbody tr th {\n",
       "        vertical-align: top;\n",
       "    }\n",
       "\n",
       "    .dataframe thead th {\n",
       "        text-align: right;\n",
       "    }\n",
       "</style>\n",
       "<table border=\"1\" class=\"dataframe\">\n",
       "  <thead>\n",
       "    <tr style=\"text-align: right;\">\n",
       "      <th></th>\n",
       "      <th>A</th>\n",
       "      <th>B</th>\n",
       "      <th>C</th>\n",
       "      <th>D</th>\n",
       "    </tr>\n",
       "  </thead>\n",
       "  <tbody>\n",
       "    <tr>\n",
       "      <th>2022-10-25 10:10:31.956608</th>\n",
       "      <td>1.668712</td>\n",
       "      <td>1.238444</td>\n",
       "      <td>0.566435</td>\n",
       "      <td>0.418046</td>\n",
       "    </tr>\n",
       "    <tr>\n",
       "      <th>2022-10-26 10:10:31.956608</th>\n",
       "      <td>0.584083</td>\n",
       "      <td>0.871202</td>\n",
       "      <td>-0.166414</td>\n",
       "      <td>0.474270</td>\n",
       "    </tr>\n",
       "  </tbody>\n",
       "</table>\n",
       "</div>"
      ],
      "text/plain": [
       "                                   A         B         C         D\n",
       "2022-10-25 10:10:31.956608  1.668712  1.238444  0.566435  0.418046\n",
       "2022-10-26 10:10:31.956608  0.584083  0.871202 -0.166414  0.474270"
      ]
     },
     "execution_count": 57,
     "metadata": {},
     "output_type": "execute_result"
    }
   ],
   "source": [
    "df1.tail(2)"
   ]
  },
  {
   "cell_type": "code",
   "execution_count": 58,
   "id": "d0619a62",
   "metadata": {},
   "outputs": [
    {
     "data": {
      "text/plain": [
       "DatetimeIndex(['2022-10-21 10:10:31.956608', '2022-10-22 10:10:31.956608',\n",
       "               '2022-10-23 10:10:31.956608', '2022-10-24 10:10:31.956608',\n",
       "               '2022-10-25 10:10:31.956608', '2022-10-26 10:10:31.956608'],\n",
       "              dtype='datetime64[ns]', freq='D')"
      ]
     },
     "execution_count": 58,
     "metadata": {},
     "output_type": "execute_result"
    }
   ],
   "source": [
    "df1.index"
   ]
  },
  {
   "cell_type": "code",
   "execution_count": 59,
   "id": "455cff0f",
   "metadata": {},
   "outputs": [
    {
     "data": {
      "text/plain": [
       "Index(['A', 'B', 'C', 'D'], dtype='object')"
      ]
     },
     "execution_count": 59,
     "metadata": {},
     "output_type": "execute_result"
    }
   ],
   "source": [
    "df1.columns"
   ]
  },
  {
   "cell_type": "code",
   "execution_count": 60,
   "id": "97a308ea",
   "metadata": {},
   "outputs": [
    {
     "data": {
      "text/plain": [
       "array([[-0.54493781, -0.74617447,  0.01624214, -0.22487176],\n",
       "       [ 0.72946114, -0.33236771, -1.264282  ,  0.19409305],\n",
       "       [ 1.173009  , -0.44109551,  0.8018408 ,  1.20027681],\n",
       "       [-0.07195078, -0.89753935, -1.43508652,  1.0446325 ],\n",
       "       [ 1.66871177,  1.23844405,  0.56643516,  0.41804649],\n",
       "       [ 0.5840827 ,  0.87120212, -0.16641435,  0.47426973]])"
      ]
     },
     "execution_count": 60,
     "metadata": {},
     "output_type": "execute_result"
    }
   ],
   "source": [
    "df1.values"
   ]
  },
  {
   "cell_type": "code",
   "execution_count": 62,
   "id": "d7ebf0b8",
   "metadata": {},
   "outputs": [
    {
     "ename": "TypeError",
     "evalue": "'method' object is not subscriptable",
     "output_type": "error",
     "traceback": [
      "\u001b[0;31m---------------------------------------------------------------------------\u001b[0m",
      "\u001b[0;31mTypeError\u001b[0m                                 Traceback (most recent call last)",
      "\u001b[0;32m<ipython-input-62-4ab0760e9f2a>\u001b[0m in \u001b[0;36m<module>\u001b[0;34m\u001b[0m\n\u001b[0;32m----> 1\u001b[0;31m \u001b[0mdf1\u001b[0m\u001b[0;34m.\u001b[0m\u001b[0mmean\u001b[0m\u001b[0;34m[\u001b[0m\u001b[0;34m\"D\"\u001b[0m\u001b[0;34m]\u001b[0m\u001b[0;34m\u001b[0m\u001b[0;34m\u001b[0m\u001b[0m\n\u001b[0m",
      "\u001b[0;31mTypeError\u001b[0m: 'method' object is not subscriptable"
     ]
    }
   ],
   "source": [
    "df1.mean([\"D\"]"
   ]
  },
  {
   "cell_type": "code",
   "execution_count": 65,
   "id": "99ad98a7",
   "metadata": {},
   "outputs": [
    {
     "data": {
      "text/plain": [
       "0       A\n",
       "1       B\n",
       "2       C\n",
       "3     AAA\n",
       "4    BACA\n",
       "5     NaN\n",
       "6     CBA\n",
       "dtype: object"
      ]
     },
     "execution_count": 65,
     "metadata": {},
     "output_type": "execute_result"
    }
   ],
   "source": [
    "string=pd.Series([\"A\",\"B\",\"C\",\"Aaa\",\"BaCa\",np.nan,\"CBA\"])\n",
    "string.str.upper()"
   ]
  },
  {
   "cell_type": "code",
   "execution_count": 66,
   "id": "0436c356",
   "metadata": {},
   "outputs": [
    {
     "data": {
      "text/plain": [
       "0       a\n",
       "1       b\n",
       "2       c\n",
       "3     aaa\n",
       "4    baca\n",
       "5     NaN\n",
       "6     cba\n",
       "dtype: object"
      ]
     },
     "execution_count": 66,
     "metadata": {},
     "output_type": "execute_result"
    }
   ],
   "source": [
    "string.str.lower()"
   ]
  },
  {
   "cell_type": "markdown",
   "id": "ef9e9d27",
   "metadata": {},
   "source": [
    "# Missing Values"
   ]
  },
  {
   "cell_type": "code",
   "execution_count": 68,
   "id": "5d1487d2",
   "metadata": {},
   "outputs": [
    {
     "data": {
      "text/plain": [
       "0       A\n",
       "1       B\n",
       "2       C\n",
       "3     Aaa\n",
       "4    BaCa\n",
       "5     NaN\n",
       "6     CBA\n",
       "dtype: object"
      ]
     },
     "execution_count": 68,
     "metadata": {},
     "output_type": "execute_result"
    }
   ],
   "source": [
    "df2 = string.copy()\n",
    "df2"
   ]
  },
  {
   "cell_type": "code",
   "execution_count": 69,
   "id": "a8ed0ac8",
   "metadata": {},
   "outputs": [
    {
     "data": {
      "text/plain": [
       "0       A\n",
       "1       B\n",
       "2       C\n",
       "3     Aaa\n",
       "4    BaCa\n",
       "6     CBA\n",
       "dtype: object"
      ]
     },
     "execution_count": 69,
     "metadata": {},
     "output_type": "execute_result"
    }
   ],
   "source": [
    "df3 = df2.dropna()\n",
    "df3"
   ]
  },
  {
   "cell_type": "code",
   "execution_count": 70,
   "id": "c7538c47",
   "metadata": {},
   "outputs": [],
   "source": [
    "df3.to_csv(\"practice.csv\")"
   ]
  },
  {
   "cell_type": "code",
   "execution_count": 72,
   "id": "38cc65e8",
   "metadata": {},
   "outputs": [
    {
     "data": {
      "text/html": [
       "<div>\n",
       "<style scoped>\n",
       "    .dataframe tbody tr th:only-of-type {\n",
       "        vertical-align: middle;\n",
       "    }\n",
       "\n",
       "    .dataframe tbody tr th {\n",
       "        vertical-align: top;\n",
       "    }\n",
       "\n",
       "    .dataframe thead th {\n",
       "        text-align: right;\n",
       "    }\n",
       "</style>\n",
       "<table border=\"1\" class=\"dataframe\">\n",
       "  <thead>\n",
       "    <tr style=\"text-align: right;\">\n",
       "      <th></th>\n",
       "      <th>Unnamed: 0</th>\n",
       "      <th>0</th>\n",
       "    </tr>\n",
       "  </thead>\n",
       "  <tbody>\n",
       "    <tr>\n",
       "      <th>0</th>\n",
       "      <td>0</td>\n",
       "      <td>A</td>\n",
       "    </tr>\n",
       "    <tr>\n",
       "      <th>1</th>\n",
       "      <td>1</td>\n",
       "      <td>B</td>\n",
       "    </tr>\n",
       "    <tr>\n",
       "      <th>2</th>\n",
       "      <td>2</td>\n",
       "      <td>C</td>\n",
       "    </tr>\n",
       "  </tbody>\n",
       "</table>\n",
       "</div>"
      ],
      "text/plain": [
       "   Unnamed: 0  0\n",
       "0           0  A\n",
       "1           1  B\n",
       "2           2  C"
      ]
     },
     "execution_count": 72,
     "metadata": {},
     "output_type": "execute_result"
    }
   ],
   "source": [
    "df_practice =pd.read_csv(\"practice.csv\")\n",
    "df_practice.head(3)"
   ]
  },
  {
   "cell_type": "code",
   "execution_count": 73,
   "id": "0908b00a",
   "metadata": {},
   "outputs": [],
   "source": [
    "df3.to_excel(\"practice.xlsx\",sheet_name = \"sheet1\")"
   ]
  },
  {
   "cell_type": "code",
   "execution_count": 74,
   "id": "53953e9d",
   "metadata": {},
   "outputs": [
    {
     "data": {
      "text/plain": [
       "<AxesSubplot:>"
      ]
     },
     "execution_count": 74,
     "metadata": {},
     "output_type": "execute_result"
    },
    {
     "data": {
      "image/png": "[encoded data removed]",
      "text/plain": [
       "<Figure size 432x288 with 1 Axes>"
      ]
     },
     "metadata": {
      "needs_background": "light"
     },
     "output_type": "display_data"
    }
   ],
   "source": [
    "\n",
    "#Visualization in Pandas\n",
    "import numpy as np\n",
    "%matplotlib inline\n",
    "ts = pd.Series(np.random.randn(50), index=pd.date_range(\"today\",periods=50))\n",
    "ts=ts.cumsum()\n",
    "ts.plot()\n"
   ]
  },
  {
   "cell_type": "code",
   "execution_count": 75,
   "id": "3f52c928",
   "metadata": {},
   "outputs": [
    {
     "data": {
      "text/html": [
       "<div>\n",
       "<style scoped>\n",
       "    .dataframe tbody tr th:only-of-type {\n",
       "        vertical-align: middle;\n",
       "    }\n",
       "\n",
       "    .dataframe tbody tr th {\n",
       "        vertical-align: top;\n",
       "    }\n",
       "\n",
       "    .dataframe thead th {\n",
       "        text-align: right;\n",
       "    }\n",
       "</style>\n",
       "<table border=\"1\" class=\"dataframe\">\n",
       "  <thead>\n",
       "    <tr style=\"text-align: right;\">\n",
       "      <th></th>\n",
       "      <th>A</th>\n",
       "      <th>B</th>\n",
       "      <th>X</th>\n",
       "      <th>Y</th>\n",
       "    </tr>\n",
       "  </thead>\n",
       "  <tbody>\n",
       "    <tr>\n",
       "      <th>2022-10-21 10:51:29.162785</th>\n",
       "      <td>0.247617</td>\n",
       "      <td>0.963451</td>\n",
       "      <td>-0.346251</td>\n",
       "      <td>-0.038980</td>\n",
       "    </tr>\n",
       "    <tr>\n",
       "      <th>2022-10-22 10:51:29.162785</th>\n",
       "      <td>-0.197046</td>\n",
       "      <td>1.912815</td>\n",
       "      <td>0.648606</td>\n",
       "      <td>-0.322593</td>\n",
       "    </tr>\n",
       "    <tr>\n",
       "      <th>2022-10-23 10:51:29.162785</th>\n",
       "      <td>-0.842830</td>\n",
       "      <td>0.538601</td>\n",
       "      <td>0.501804</td>\n",
       "      <td>-0.686158</td>\n",
       "    </tr>\n",
       "    <tr>\n",
       "      <th>2022-10-24 10:51:29.162785</th>\n",
       "      <td>-0.108906</td>\n",
       "      <td>-0.270964</td>\n",
       "      <td>0.034132</td>\n",
       "      <td>-0.505743</td>\n",
       "    </tr>\n",
       "    <tr>\n",
       "      <th>2022-10-25 10:51:29.162785</th>\n",
       "      <td>1.481036</td>\n",
       "      <td>3.055562</td>\n",
       "      <td>-0.701379</td>\n",
       "      <td>0.217968</td>\n",
       "    </tr>\n",
       "    <tr>\n",
       "      <th>2022-10-26 10:51:29.162785</th>\n",
       "      <td>-0.654872</td>\n",
       "      <td>-2.273059</td>\n",
       "      <td>-1.630612</td>\n",
       "      <td>0.141411</td>\n",
       "    </tr>\n",
       "    <tr>\n",
       "      <th>2022-10-27 10:51:29.162785</th>\n",
       "      <td>0.923165</td>\n",
       "      <td>-0.338748</td>\n",
       "      <td>-1.247309</td>\n",
       "      <td>-2.898322</td>\n",
       "    </tr>\n",
       "    <tr>\n",
       "      <th>2022-10-28 10:51:29.162785</th>\n",
       "      <td>-2.116252</td>\n",
       "      <td>0.465662</td>\n",
       "      <td>-0.700150</td>\n",
       "      <td>0.781055</td>\n",
       "    </tr>\n",
       "    <tr>\n",
       "      <th>2022-10-29 10:51:29.162785</th>\n",
       "      <td>-1.047890</td>\n",
       "      <td>-0.240149</td>\n",
       "      <td>0.695555</td>\n",
       "      <td>-2.097839</td>\n",
       "    </tr>\n",
       "    <tr>\n",
       "      <th>2022-10-30 10:51:29.162785</th>\n",
       "      <td>-0.527924</td>\n",
       "      <td>0.654752</td>\n",
       "      <td>-0.010974</td>\n",
       "      <td>-1.462533</td>\n",
       "    </tr>\n",
       "    <tr>\n",
       "      <th>2022-10-31 10:51:29.162785</th>\n",
       "      <td>1.191996</td>\n",
       "      <td>-1.144025</td>\n",
       "      <td>-0.072264</td>\n",
       "      <td>-0.097080</td>\n",
       "    </tr>\n",
       "    <tr>\n",
       "      <th>2022-11-01 10:51:29.162785</th>\n",
       "      <td>0.158859</td>\n",
       "      <td>-0.249679</td>\n",
       "      <td>-0.276358</td>\n",
       "      <td>0.320920</td>\n",
       "    </tr>\n",
       "    <tr>\n",
       "      <th>2022-11-02 10:51:29.162785</th>\n",
       "      <td>-0.652274</td>\n",
       "      <td>-0.301455</td>\n",
       "      <td>1.130605</td>\n",
       "      <td>-0.404956</td>\n",
       "    </tr>\n",
       "    <tr>\n",
       "      <th>2022-11-03 10:51:29.162785</th>\n",
       "      <td>0.661352</td>\n",
       "      <td>-1.595859</td>\n",
       "      <td>-0.412432</td>\n",
       "      <td>-0.059930</td>\n",
       "    </tr>\n",
       "    <tr>\n",
       "      <th>2022-11-04 10:51:29.162785</th>\n",
       "      <td>0.301059</td>\n",
       "      <td>-0.010383</td>\n",
       "      <td>0.439521</td>\n",
       "      <td>-0.191829</td>\n",
       "    </tr>\n",
       "    <tr>\n",
       "      <th>2022-11-05 10:51:29.162785</th>\n",
       "      <td>1.600066</td>\n",
       "      <td>1.030832</td>\n",
       "      <td>-1.021086</td>\n",
       "      <td>0.981288</td>\n",
       "    </tr>\n",
       "    <tr>\n",
       "      <th>2022-11-06 10:51:29.162785</th>\n",
       "      <td>0.996496</td>\n",
       "      <td>-0.162446</td>\n",
       "      <td>1.277368</td>\n",
       "      <td>0.036639</td>\n",
       "    </tr>\n",
       "    <tr>\n",
       "      <th>2022-11-07 10:51:29.162785</th>\n",
       "      <td>2.295454</td>\n",
       "      <td>0.886639</td>\n",
       "      <td>2.132708</td>\n",
       "      <td>1.544069</td>\n",
       "    </tr>\n",
       "    <tr>\n",
       "      <th>2022-11-08 10:51:29.162785</th>\n",
       "      <td>0.831289</td>\n",
       "      <td>1.177072</td>\n",
       "      <td>0.468881</td>\n",
       "      <td>-0.999485</td>\n",
       "    </tr>\n",
       "    <tr>\n",
       "      <th>2022-11-09 10:51:29.162785</th>\n",
       "      <td>1.344298</td>\n",
       "      <td>2.748946</td>\n",
       "      <td>0.792124</td>\n",
       "      <td>0.948245</td>\n",
       "    </tr>\n",
       "    <tr>\n",
       "      <th>2022-11-10 10:51:29.162785</th>\n",
       "      <td>-0.404000</td>\n",
       "      <td>-1.108403</td>\n",
       "      <td>-0.567956</td>\n",
       "      <td>-0.119978</td>\n",
       "    </tr>\n",
       "    <tr>\n",
       "      <th>2022-11-11 10:51:29.162785</th>\n",
       "      <td>1.328585</td>\n",
       "      <td>0.432424</td>\n",
       "      <td>1.607418</td>\n",
       "      <td>0.604764</td>\n",
       "    </tr>\n",
       "    <tr>\n",
       "      <th>2022-11-12 10:51:29.162785</th>\n",
       "      <td>1.487828</td>\n",
       "      <td>-0.216460</td>\n",
       "      <td>-0.402807</td>\n",
       "      <td>0.466888</td>\n",
       "    </tr>\n",
       "    <tr>\n",
       "      <th>2022-11-13 10:51:29.162785</th>\n",
       "      <td>-0.494618</td>\n",
       "      <td>0.885906</td>\n",
       "      <td>0.737692</td>\n",
       "      <td>0.971725</td>\n",
       "    </tr>\n",
       "    <tr>\n",
       "      <th>2022-11-14 10:51:29.162785</th>\n",
       "      <td>0.696923</td>\n",
       "      <td>0.406304</td>\n",
       "      <td>0.321866</td>\n",
       "      <td>-1.428109</td>\n",
       "    </tr>\n",
       "    <tr>\n",
       "      <th>2022-11-15 10:51:29.162785</th>\n",
       "      <td>1.233483</td>\n",
       "      <td>-0.366862</td>\n",
       "      <td>-0.542829</td>\n",
       "      <td>0.567863</td>\n",
       "    </tr>\n",
       "    <tr>\n",
       "      <th>2022-11-16 10:51:29.162785</th>\n",
       "      <td>0.646468</td>\n",
       "      <td>-1.861976</td>\n",
       "      <td>-0.002926</td>\n",
       "      <td>0.083315</td>\n",
       "    </tr>\n",
       "    <tr>\n",
       "      <th>2022-11-17 10:51:29.162785</th>\n",
       "      <td>0.933400</td>\n",
       "      <td>0.290547</td>\n",
       "      <td>1.311271</td>\n",
       "      <td>-0.338958</td>\n",
       "    </tr>\n",
       "    <tr>\n",
       "      <th>2022-11-18 10:51:29.162785</th>\n",
       "      <td>-0.221798</td>\n",
       "      <td>1.110588</td>\n",
       "      <td>-0.248352</td>\n",
       "      <td>-0.658981</td>\n",
       "    </tr>\n",
       "    <tr>\n",
       "      <th>2022-11-19 10:51:29.162785</th>\n",
       "      <td>-0.262649</td>\n",
       "      <td>-0.482854</td>\n",
       "      <td>-0.737425</td>\n",
       "      <td>-0.067251</td>\n",
       "    </tr>\n",
       "    <tr>\n",
       "      <th>2022-11-20 10:51:29.162785</th>\n",
       "      <td>-0.948435</td>\n",
       "      <td>0.815519</td>\n",
       "      <td>-2.145417</td>\n",
       "      <td>0.382763</td>\n",
       "    </tr>\n",
       "    <tr>\n",
       "      <th>2022-11-21 10:51:29.162785</th>\n",
       "      <td>0.836973</td>\n",
       "      <td>-0.172947</td>\n",
       "      <td>0.955220</td>\n",
       "      <td>1.192276</td>\n",
       "    </tr>\n",
       "    <tr>\n",
       "      <th>2022-11-22 10:51:29.162785</th>\n",
       "      <td>0.319963</td>\n",
       "      <td>0.290304</td>\n",
       "      <td>-1.794502</td>\n",
       "      <td>0.669207</td>\n",
       "    </tr>\n",
       "    <tr>\n",
       "      <th>2022-11-23 10:51:29.162785</th>\n",
       "      <td>-0.303890</td>\n",
       "      <td>1.198308</td>\n",
       "      <td>1.372654</td>\n",
       "      <td>-1.547824</td>\n",
       "    </tr>\n",
       "    <tr>\n",
       "      <th>2022-11-24 10:51:29.162785</th>\n",
       "      <td>-2.587564</td>\n",
       "      <td>-1.830882</td>\n",
       "      <td>2.251808</td>\n",
       "      <td>1.642256</td>\n",
       "    </tr>\n",
       "    <tr>\n",
       "      <th>2022-11-25 10:51:29.162785</th>\n",
       "      <td>1.411500</td>\n",
       "      <td>1.070259</td>\n",
       "      <td>-0.903449</td>\n",
       "      <td>1.397769</td>\n",
       "    </tr>\n",
       "    <tr>\n",
       "      <th>2022-11-26 10:51:29.162785</th>\n",
       "      <td>0.668901</td>\n",
       "      <td>-0.934379</td>\n",
       "      <td>-2.913697</td>\n",
       "      <td>-0.186652</td>\n",
       "    </tr>\n",
       "    <tr>\n",
       "      <th>2022-11-27 10:51:29.162785</th>\n",
       "      <td>1.371873</td>\n",
       "      <td>-0.245477</td>\n",
       "      <td>-0.958016</td>\n",
       "      <td>2.478002</td>\n",
       "    </tr>\n",
       "    <tr>\n",
       "      <th>2022-11-28 10:51:29.162785</th>\n",
       "      <td>0.683016</td>\n",
       "      <td>-0.101223</td>\n",
       "      <td>-1.241550</td>\n",
       "      <td>0.041515</td>\n",
       "    </tr>\n",
       "    <tr>\n",
       "      <th>2022-11-29 10:51:29.162785</th>\n",
       "      <td>0.428295</td>\n",
       "      <td>-2.344236</td>\n",
       "      <td>0.043092</td>\n",
       "      <td>-0.866571</td>\n",
       "    </tr>\n",
       "    <tr>\n",
       "      <th>2022-11-30 10:51:29.162785</th>\n",
       "      <td>1.613048</td>\n",
       "      <td>0.273496</td>\n",
       "      <td>1.583182</td>\n",
       "      <td>0.075805</td>\n",
       "    </tr>\n",
       "    <tr>\n",
       "      <th>2022-12-01 10:51:29.162785</th>\n",
       "      <td>-1.025262</td>\n",
       "      <td>-0.525512</td>\n",
       "      <td>0.423544</td>\n",
       "      <td>1.064142</td>\n",
       "    </tr>\n",
       "    <tr>\n",
       "      <th>2022-12-02 10:51:29.162785</th>\n",
       "      <td>0.243986</td>\n",
       "      <td>0.607970</td>\n",
       "      <td>-0.218618</td>\n",
       "      <td>1.046503</td>\n",
       "    </tr>\n",
       "    <tr>\n",
       "      <th>2022-12-03 10:51:29.162785</th>\n",
       "      <td>1.081904</td>\n",
       "      <td>0.391928</td>\n",
       "      <td>0.043720</td>\n",
       "      <td>1.480016</td>\n",
       "    </tr>\n",
       "    <tr>\n",
       "      <th>2022-12-04 10:51:29.162785</th>\n",
       "      <td>-1.536957</td>\n",
       "      <td>1.243827</td>\n",
       "      <td>-0.369169</td>\n",
       "      <td>-0.091569</td>\n",
       "    </tr>\n",
       "    <tr>\n",
       "      <th>2022-12-05 10:51:29.162785</th>\n",
       "      <td>-0.099516</td>\n",
       "      <td>-1.583219</td>\n",
       "      <td>-0.075030</td>\n",
       "      <td>-0.880700</td>\n",
       "    </tr>\n",
       "    <tr>\n",
       "      <th>2022-12-06 10:51:29.162785</th>\n",
       "      <td>2.194732</td>\n",
       "      <td>0.554917</td>\n",
       "      <td>-1.444188</td>\n",
       "      <td>2.754142</td>\n",
       "    </tr>\n",
       "    <tr>\n",
       "      <th>2022-12-07 10:51:29.162785</th>\n",
       "      <td>1.306074</td>\n",
       "      <td>-0.426415</td>\n",
       "      <td>-0.729023</td>\n",
       "      <td>0.104036</td>\n",
       "    </tr>\n",
       "    <tr>\n",
       "      <th>2022-12-08 10:51:29.162785</th>\n",
       "      <td>-0.031497</td>\n",
       "      <td>-0.544839</td>\n",
       "      <td>-0.389103</td>\n",
       "      <td>-0.556521</td>\n",
       "    </tr>\n",
       "    <tr>\n",
       "      <th>2022-12-09 10:51:29.162785</th>\n",
       "      <td>0.542264</td>\n",
       "      <td>-0.064875</td>\n",
       "      <td>0.665707</td>\n",
       "      <td>0.873632</td>\n",
       "    </tr>\n",
       "  </tbody>\n",
       "</table>\n",
       "</div>"
      ],
      "text/plain": [
       "                                   A         B         X         Y\n",
       "2022-10-21 10:51:29.162785  0.247617  0.963451 -0.346251 -0.038980\n",
       "2022-10-22 10:51:29.162785 -0.197046  1.912815  0.648606 -0.322593\n",
       "2022-10-23 10:51:29.162785 -0.842830  0.538601  0.501804 -0.686158\n",
       "2022-10-24 10:51:29.162785 -0.108906 -0.270964  0.034132 -0.505743\n",
       "2022-10-25 10:51:29.162785  1.481036  3.055562 -0.701379  0.217968\n",
       "2022-10-26 10:51:29.162785 -0.654872 -2.273059 -1.630612  0.141411\n",
       "2022-10-27 10:51:29.162785  0.923165 -0.338748 -1.247309 -2.898322\n",
       "2022-10-28 10:51:29.162785 -2.116252  0.465662 -0.700150  0.781055\n",
       "2022-10-29 10:51:29.162785 -1.047890 -0.240149  0.695555 -2.097839\n",
       "2022-10-30 10:51:29.162785 -0.527924  0.654752 -0.010974 -1.462533\n",
       "2022-10-31 10:51:29.162785  1.191996 -1.144025 -0.072264 -0.097080\n",
       "2022-11-01 10:51:29.162785  0.158859 -0.249679 -0.276358  0.320920\n",
       "2022-11-02 10:51:29.162785 -0.652274 -0.301455  1.130605 -0.404956\n",
       "2022-11-03 10:51:29.162785  0.661352 -1.595859 -0.412432 -0.059930\n",
       "2022-11-04 10:51:29.162785  0.301059 -0.010383  0.439521 -0.191829\n",
       "2022-11-05 10:51:29.162785  1.600066  1.030832 -1.021086  0.981288\n",
       "2022-11-06 10:51:29.162785  0.996496 -0.162446  1.277368  0.036639\n",
       "2022-11-07 10:51:29.162785  2.295454  0.886639  2.132708  1.544069\n",
       "2022-11-08 10:51:29.162785  0.831289  1.177072  0.468881 -0.999485\n",
       "2022-11-09 10:51:29.162785  1.344298  2.748946  0.792124  0.948245\n",
       "2022-11-10 10:51:29.162785 -0.404000 -1.108403 -0.567956 -0.119978\n",
       "2022-11-11 10:51:29.162785  1.328585  0.432424  1.607418  0.604764\n",
       "2022-11-12 10:51:29.162785  1.487828 -0.216460 -0.402807  0.466888\n",
       "2022-11-13 10:51:29.162785 -0.494618  0.885906  0.737692  0.971725\n",
       "2022-11-14 10:51:29.162785  0.696923  0.406304  0.321866 -1.428109\n",
       "2022-11-15 10:51:29.162785  1.233483 -0.366862 -0.542829  0.567863\n",
       "2022-11-16 10:51:29.162785  0.646468 -1.861976 -0.002926  0.083315\n",
       "2022-11-17 10:51:29.162785  0.933400  0.290547  1.311271 -0.338958\n",
       "2022-11-18 10:51:29.162785 -0.221798  1.110588 -0.248352 -0.658981\n",
       "2022-11-19 10:51:29.162785 -0.262649 -0.482854 -0.737425 -0.067251\n",
       "2022-11-20 10:51:29.162785 -0.948435  0.815519 -2.145417  0.382763\n",
       "2022-11-21 10:51:29.162785  0.836973 -0.172947  0.955220  1.192276\n",
       "2022-11-22 10:51:29.162785  0.319963  0.290304 -1.794502  0.669207\n",
       "2022-11-23 10:51:29.162785 -0.303890  1.198308  1.372654 -1.547824\n",
       "2022-11-24 10:51:29.162785 -2.587564 -1.830882  2.251808  1.642256\n",
       "2022-11-25 10:51:29.162785  1.411500  1.070259 -0.903449  1.397769\n",
       "2022-11-26 10:51:29.162785  0.668901 -0.934379 -2.913697 -0.186652\n",
       "2022-11-27 10:51:29.162785  1.371873 -0.245477 -0.958016  2.478002\n",
       "2022-11-28 10:51:29.162785  0.683016 -0.101223 -1.241550  0.041515\n",
       "2022-11-29 10:51:29.162785  0.428295 -2.344236  0.043092 -0.866571\n",
       "2022-11-30 10:51:29.162785  1.613048  0.273496  1.583182  0.075805\n",
       "2022-12-01 10:51:29.162785 -1.025262 -0.525512  0.423544  1.064142\n",
       "2022-12-02 10:51:29.162785  0.243986  0.607970 -0.218618  1.046503\n",
       "2022-12-03 10:51:29.162785  1.081904  0.391928  0.043720  1.480016\n",
       "2022-12-04 10:51:29.162785 -1.536957  1.243827 -0.369169 -0.091569\n",
       "2022-12-05 10:51:29.162785 -0.099516 -1.583219 -0.075030 -0.880700\n",
       "2022-12-06 10:51:29.162785  2.194732  0.554917 -1.444188  2.754142\n",
       "2022-12-07 10:51:29.162785  1.306074 -0.426415 -0.729023  0.104036\n",
       "2022-12-08 10:51:29.162785 -0.031497 -0.544839 -0.389103 -0.556521\n",
       "2022-12-09 10:51:29.162785  0.542264 -0.064875  0.665707  0.873632"
      ]
     },
     "execution_count": 75,
     "metadata": {},
     "output_type": "execute_result"
    }
   ],
   "source": [
    "df = pd.DataFrame(np.random.randn(50,4),index=ts.index,columns=[\"A\",\"B\",\"X\",\"Y\"])\n",
    "df"
   ]
  },
  {
   "cell_type": "code",
   "execution_count": 76,
   "id": "40c7c54e",
   "metadata": {},
   "outputs": [
    {
     "data": {
      "text/plain": [
       "<AxesSubplot:>"
      ]
     },
     "execution_count": 76,
     "metadata": {},
     "output_type": "execute_result"
    },
    {
     "data": {
      "image/png": "[encoded data removed]",
      "text/plain": [
       "<Figure size 432x288 with 1 Axes>"
      ]
     },
     "metadata": {
      "needs_background": "light"
     },
     "output_type": "display_data"
    }
   ],
   "source": [
    "df =df.cumsum()\n",
    "df.plot()"
   ]
  },
  {
   "cell_type": "markdown",
   "id": "09876ed7",
   "metadata": {},
   "source": [
    "#remove repeated data using pandas"
   ]
  },
  {
   "cell_type": "code",
   "execution_count": 81,
   "id": "2da70fc5",
   "metadata": {},
   "outputs": [
    {
     "data": {
      "text/html": [
       "<div>\n",
       "<style scoped>\n",
       "    .dataframe tbody tr th:only-of-type {\n",
       "        vertical-align: middle;\n",
       "    }\n",
       "\n",
       "    .dataframe tbody tr th {\n",
       "        vertical-align: top;\n",
       "    }\n",
       "\n",
       "    .dataframe thead th {\n",
       "        text-align: right;\n",
       "    }\n",
       "</style>\n",
       "<table border=\"1\" class=\"dataframe\">\n",
       "  <thead>\n",
       "    <tr style=\"text-align: right;\">\n",
       "      <th></th>\n",
       "      <th>A</th>\n",
       "    </tr>\n",
       "  </thead>\n",
       "  <tbody>\n",
       "    <tr>\n",
       "      <th>0</th>\n",
       "      <td>1</td>\n",
       "    </tr>\n",
       "    <tr>\n",
       "      <th>1</th>\n",
       "      <td>7</td>\n",
       "    </tr>\n",
       "    <tr>\n",
       "      <th>2</th>\n",
       "      <td>2</td>\n",
       "    </tr>\n",
       "    <tr>\n",
       "      <th>5</th>\n",
       "      <td>4</td>\n",
       "    </tr>\n",
       "    <tr>\n",
       "      <th>7</th>\n",
       "      <td>5</td>\n",
       "    </tr>\n",
       "    <tr>\n",
       "      <th>9</th>\n",
       "      <td>6</td>\n",
       "    </tr>\n",
       "    <tr>\n",
       "      <th>11</th>\n",
       "      <td>7</td>\n",
       "    </tr>\n",
       "    <tr>\n",
       "      <th>12</th>\n",
       "      <td>8</td>\n",
       "    </tr>\n",
       "  </tbody>\n",
       "</table>\n",
       "</div>"
      ],
      "text/plain": [
       "    A\n",
       "0   1\n",
       "1   7\n",
       "2   2\n",
       "5   4\n",
       "7   5\n",
       "9   6\n",
       "11  7\n",
       "12  8"
      ]
     },
     "execution_count": 81,
     "metadata": {},
     "output_type": "execute_result"
    }
   ],
   "source": [
    "df= pd.DataFrame({\"A\":[1,2,2,2,4,4,5,5,6,6,7,8,8,]})\n",
    "df.loc[df[\"A\"].shift()!=df[\"A\"]]"
   ]
  },
  {
   "cell_type": "markdown",
   "id": "55285025",
   "metadata": {},
   "source": [
    "## from W3Schools\n"
   ]
  },
  {
   "cell_type": "code",
   "execution_count": 4,
   "id": "01960ddb",
   "metadata": {},
   "outputs": [],
   "source": [
    "import pandas as pd\n",
    "mydata  ={\"cars\": [\"bmw\",\"volvo\",\"ford\"],\n",
    "         \"passings\" : [3,7,2]}\n"
   ]
  },
  {
   "cell_type": "code",
   "execution_count": 5,
   "id": "1e272e67",
   "metadata": {},
   "outputs": [
    {
     "name": "stdout",
     "output_type": "stream",
     "text": [
      "    cars  passings\n",
      "0    bmw         3\n",
      "1  volvo         7\n",
      "2   ford         2\n"
     ]
    }
   ],
   "source": [
    "\n",
    "myvar= pd.DataFrame(mydata)\n",
    "print(myvar)"
   ]
  },
  {
   "cell_type": "code",
   "execution_count": 9,
   "id": "7afc9fe8",
   "metadata": {},
   "outputs": [
    {
     "name": "stdout",
     "output_type": "stream",
     "text": [
      "1.2.4\n"
     ]
    }
   ],
   "source": [
    "print(pd.__version__)"
   ]
  },
  {
   "cell_type": "code",
   "execution_count": 13,
   "id": "8991d9e1",
   "metadata": {},
   "outputs": [
    {
     "data": {
      "text/plain": [
       "0    1\n",
       "1    2\n",
       "2    3\n",
       "3    4\n",
       "dtype: int64"
      ]
     },
     "execution_count": 13,
     "metadata": {},
     "output_type": "execute_result"
    }
   ],
   "source": [
    "a = [1,2,3,4]\n",
    "b  =[\"a\",\"b\",\"c\",\"d\"]\n",
    "mydf = pd.Series(a)\n",
    "mydf"
   ]
  },
  {
   "cell_type": "code",
   "execution_count": 14,
   "id": "3c29875d",
   "metadata": {},
   "outputs": [
    {
     "name": "stdout",
     "output_type": "stream",
     "text": [
      "3\n"
     ]
    }
   ],
   "source": [
    "print(a[2])"
   ]
  },
  {
   "cell_type": "code",
   "execution_count": 17,
   "id": "332210b6",
   "metadata": {},
   "outputs": [
    {
     "data": {
      "text/plain": [
       "a    1\n",
       "b    2\n",
       "c    3\n",
       "d    4\n",
       "dtype: int64"
      ]
     },
     "execution_count": 17,
     "metadata": {},
     "output_type": "execute_result"
    }
   ],
   "source": [
    "mydf1 = pd.Series(a,index=b)\n",
    "mydf1"
   ]
  },
  {
   "cell_type": "code",
   "execution_count": 22,
   "id": "65f66aab",
   "metadata": {},
   "outputs": [
    {
     "name": "stdout",
     "output_type": "stream",
     "text": [
      "3\n"
     ]
    }
   ],
   "source": [
    "print(mydf1[\"c\"])"
   ]
  },
  {
   "cell_type": "code",
   "execution_count": null,
   "id": "31e8acce",
   "metadata": {},
   "outputs": [],
   "source": [
    "# Create a simple pandas Series from a dictionary"
   ]
  },
  {
   "cell_type": "code",
   "execution_count": 27,
   "id": "feb42b3e",
   "metadata": {},
   "outputs": [],
   "source": [
    "calories={\"day1\":420,\"day2\":380,\"day3\":390}"
   ]
  },
  {
   "cell_type": "code",
   "execution_count": 28,
   "id": "5bca590d",
   "metadata": {},
   "outputs": [
    {
     "name": "stdout",
     "output_type": "stream",
     "text": [
      "day1    420\n",
      "day2    380\n",
      "day3    390\n",
      "dtype: int64\n"
     ]
    }
   ],
   "source": [
    "df2 = pd.Series(calories)\n",
    "print(df2)"
   ]
  },
  {
   "cell_type": "code",
   "execution_count": 33,
   "id": "66c939a3",
   "metadata": {},
   "outputs": [
    {
     "data": {
      "text/plain": [
       "day2    380\n",
       "day3    390\n",
       "dtype: int64"
      ]
     },
     "execution_count": 33,
     "metadata": {},
     "output_type": "execute_result"
    }
   ],
   "source": [
    "df = pd.Series(calories,index=[\"day2\",\"day3\"])\n",
    "df"
   ]
  },
  {
   "cell_type": "code",
   "execution_count": 39,
   "id": "9fb82e93",
   "metadata": {},
   "outputs": [],
   "source": [
    "data = { \"calories\": [420,380,390],\n",
    "       \"duration\":[50,40,45]\n",
    "       }\n",
    "index1 = [\"a\",\"b\",\"c\"]"
   ]
  },
  {
   "cell_type": "code",
   "execution_count": 42,
   "id": "3a1590c8",
   "metadata": {},
   "outputs": [
    {
     "data": {
      "text/html": [
       "<div>\n",
       "<style scoped>\n",
       "    .dataframe tbody tr th:only-of-type {\n",
       "        vertical-align: middle;\n",
       "    }\n",
       "\n",
       "    .dataframe tbody tr th {\n",
       "        vertical-align: top;\n",
       "    }\n",
       "\n",
       "    .dataframe thead th {\n",
       "        text-align: right;\n",
       "    }\n",
       "</style>\n",
       "<table border=\"1\" class=\"dataframe\">\n",
       "  <thead>\n",
       "    <tr style=\"text-align: right;\">\n",
       "      <th></th>\n",
       "      <th>calories</th>\n",
       "      <th>duration</th>\n",
       "    </tr>\n",
       "  </thead>\n",
       "  <tbody>\n",
       "    <tr>\n",
       "      <th>a</th>\n",
       "      <td>420</td>\n",
       "      <td>50</td>\n",
       "    </tr>\n",
       "    <tr>\n",
       "      <th>b</th>\n",
       "      <td>380</td>\n",
       "      <td>40</td>\n",
       "    </tr>\n",
       "    <tr>\n",
       "      <th>c</th>\n",
       "      <td>390</td>\n",
       "      <td>45</td>\n",
       "    </tr>\n",
       "  </tbody>\n",
       "</table>\n",
       "</div>"
      ],
      "text/plain": [
       "   calories  duration\n",
       "a       420        50\n",
       "b       380        40\n",
       "c       390        45"
      ]
     },
     "execution_count": 42,
     "metadata": {},
     "output_type": "execute_result"
    }
   ],
   "source": [
    "df = pd.DataFrame(data,index = index1)\n",
    "df"
   ]
  },
  {
   "cell_type": "code",
   "execution_count": 45,
   "id": "10fb6cc2",
   "metadata": {},
   "outputs": [
    {
     "data": {
      "text/html": [
       "<div>\n",
       "<style scoped>\n",
       "    .dataframe tbody tr th:only-of-type {\n",
       "        vertical-align: middle;\n",
       "    }\n",
       "\n",
       "    .dataframe tbody tr th {\n",
       "        vertical-align: top;\n",
       "    }\n",
       "\n",
       "    .dataframe thead th {\n",
       "        text-align: right;\n",
       "    }\n",
       "</style>\n",
       "<table border=\"1\" class=\"dataframe\">\n",
       "  <thead>\n",
       "    <tr style=\"text-align: right;\">\n",
       "      <th></th>\n",
       "      <th>calories</th>\n",
       "      <th>duration</th>\n",
       "    </tr>\n",
       "  </thead>\n",
       "  <tbody>\n",
       "    <tr>\n",
       "      <th>0</th>\n",
       "      <td>420</td>\n",
       "      <td>50</td>\n",
       "    </tr>\n",
       "    <tr>\n",
       "      <th>1</th>\n",
       "      <td>380</td>\n",
       "      <td>40</td>\n",
       "    </tr>\n",
       "    <tr>\n",
       "      <th>2</th>\n",
       "      <td>390</td>\n",
       "      <td>45</td>\n",
       "    </tr>\n",
       "  </tbody>\n",
       "</table>\n",
       "</div>"
      ],
      "text/plain": [
       "   calories  duration\n",
       "0       420        50\n",
       "1       380        40\n",
       "2       390        45"
      ]
     },
     "execution_count": 45,
     "metadata": {},
     "output_type": "execute_result"
    }
   ],
   "source": [
    "df = pd.DataFrame(data)\n",
    "df"
   ]
  },
  {
   "cell_type": "markdown",
   "id": "261a09ad",
   "metadata": {},
   "source": [
    " #locate row using loc method\n",
    " "
   ]
  },
  {
   "cell_type": "code",
   "execution_count": 47,
   "id": "2cc53fd7",
   "metadata": {},
   "outputs": [
    {
     "name": "stdout",
     "output_type": "stream",
     "text": [
      "   calories  duration\n",
      "2       390        45\n"
     ]
    }
   ],
   "source": [
    "print(df.loc[2:])"
   ]
  },
  {
   "cell_type": "code",
   "execution_count": 56,
   "id": "1e6a2fc2",
   "metadata": {},
   "outputs": [
    {
     "name": "stdout",
     "output_type": "stream",
     "text": [
      "   calories  duration\n",
      "2       390        45\n",
      "0       420        50\n"
     ]
    }
   ],
   "source": [
    "print(df.loc[[2,0]])"
   ]
  },
  {
   "cell_type": "code",
   "execution_count": 64,
   "id": "569ffc23",
   "metadata": {},
   "outputs": [
    {
     "data": {
      "text/plain": [
       "Index(['Duration', 'Pulse', 'Maxpulse', 'Calories'], dtype='object')"
      ]
     },
     "execution_count": 64,
     "metadata": {},
     "output_type": "execute_result"
    }
   ],
   "source": [
    "df = pd.read_csv(\"data.csv\")\n",
    "df.columns"
   ]
  },
  {
   "cell_type": "code",
   "execution_count": 65,
   "id": "2fb37c85",
   "metadata": {},
   "outputs": [
    {
     "data": {
      "text/html": [
       "<div>\n",
       "<style scoped>\n",
       "    .dataframe tbody tr th:only-of-type {\n",
       "        vertical-align: middle;\n",
       "    }\n",
       "\n",
       "    .dataframe tbody tr th {\n",
       "        vertical-align: top;\n",
       "    }\n",
       "\n",
       "    .dataframe thead th {\n",
       "        text-align: right;\n",
       "    }\n",
       "</style>\n",
       "<table border=\"1\" class=\"dataframe\">\n",
       "  <thead>\n",
       "    <tr style=\"text-align: right;\">\n",
       "      <th></th>\n",
       "      <th>Duration</th>\n",
       "      <th>Pulse</th>\n",
       "      <th>Maxpulse</th>\n",
       "      <th>Calories</th>\n",
       "    </tr>\n",
       "  </thead>\n",
       "  <tbody>\n",
       "    <tr>\n",
       "      <th>0</th>\n",
       "      <td>60</td>\n",
       "      <td>110</td>\n",
       "      <td>130</td>\n",
       "      <td>409.1</td>\n",
       "    </tr>\n",
       "    <tr>\n",
       "      <th>1</th>\n",
       "      <td>60</td>\n",
       "      <td>117</td>\n",
       "      <td>145</td>\n",
       "      <td>479.0</td>\n",
       "    </tr>\n",
       "    <tr>\n",
       "      <th>2</th>\n",
       "      <td>60</td>\n",
       "      <td>103</td>\n",
       "      <td>135</td>\n",
       "      <td>340.0</td>\n",
       "    </tr>\n",
       "    <tr>\n",
       "      <th>3</th>\n",
       "      <td>45</td>\n",
       "      <td>109</td>\n",
       "      <td>175</td>\n",
       "      <td>282.4</td>\n",
       "    </tr>\n",
       "    <tr>\n",
       "      <th>4</th>\n",
       "      <td>45</td>\n",
       "      <td>117</td>\n",
       "      <td>148</td>\n",
       "      <td>406.0</td>\n",
       "    </tr>\n",
       "    <tr>\n",
       "      <th>...</th>\n",
       "      <td>...</td>\n",
       "      <td>...</td>\n",
       "      <td>...</td>\n",
       "      <td>...</td>\n",
       "    </tr>\n",
       "    <tr>\n",
       "      <th>164</th>\n",
       "      <td>60</td>\n",
       "      <td>105</td>\n",
       "      <td>140</td>\n",
       "      <td>290.8</td>\n",
       "    </tr>\n",
       "    <tr>\n",
       "      <th>165</th>\n",
       "      <td>60</td>\n",
       "      <td>110</td>\n",
       "      <td>145</td>\n",
       "      <td>300.4</td>\n",
       "    </tr>\n",
       "    <tr>\n",
       "      <th>166</th>\n",
       "      <td>60</td>\n",
       "      <td>115</td>\n",
       "      <td>145</td>\n",
       "      <td>310.2</td>\n",
       "    </tr>\n",
       "    <tr>\n",
       "      <th>167</th>\n",
       "      <td>75</td>\n",
       "      <td>120</td>\n",
       "      <td>150</td>\n",
       "      <td>320.4</td>\n",
       "    </tr>\n",
       "    <tr>\n",
       "      <th>168</th>\n",
       "      <td>75</td>\n",
       "      <td>125</td>\n",
       "      <td>150</td>\n",
       "      <td>330.4</td>\n",
       "    </tr>\n",
       "  </tbody>\n",
       "</table>\n",
       "<p>169 rows × 4 columns</p>\n",
       "</div>"
      ],
      "text/plain": [
       "     Duration  Pulse  Maxpulse  Calories\n",
       "0          60    110       130     409.1\n",
       "1          60    117       145     479.0\n",
       "2          60    103       135     340.0\n",
       "3          45    109       175     282.4\n",
       "4          45    117       148     406.0\n",
       "..        ...    ...       ...       ...\n",
       "164        60    105       140     290.8\n",
       "165        60    110       145     300.4\n",
       "166        60    115       145     310.2\n",
       "167        75    120       150     320.4\n",
       "168        75    125       150     330.4\n",
       "\n",
       "[169 rows x 4 columns]"
      ]
     },
     "execution_count": 65,
     "metadata": {},
     "output_type": "execute_result"
    }
   ],
   "source": [
    "df1 =pd.read_json(\"data.js\")\n",
    "df1"
   ]
  },
  {
   "cell_type": "code",
   "execution_count": 67,
   "id": "cf1d0994",
   "metadata": {},
   "outputs": [
    {
     "name": "stdout",
     "output_type": "stream",
     "text": [
      "<class 'pandas.core.frame.DataFrame'>\n",
      "RangeIndex: 169 entries, 0 to 168\n",
      "Data columns (total 4 columns):\n",
      " #   Column    Non-Null Count  Dtype  \n",
      "---  ------    --------------  -----  \n",
      " 0   Duration  169 non-null    int64  \n",
      " 1   Pulse     169 non-null    int64  \n",
      " 2   Maxpulse  169 non-null    int64  \n",
      " 3   Calories  164 non-null    float64\n",
      "dtypes: float64(1), int64(3)\n",
      "memory usage: 5.4 KB\n",
      "None\n"
     ]
    }
   ],
   "source": [
    "print(df.info())"
   ]
  },
  {
   "cell_type": "code",
   "execution_count": 69,
   "id": "451a004b",
   "metadata": {},
   "outputs": [
    {
     "name": "stdout",
     "output_type": "stream",
     "text": [
      "     Duration  Pulse  Maxpulse  Calories\n",
      "0       False  False     False     False\n",
      "1       False  False     False     False\n",
      "2       False  False     False     False\n",
      "3       False  False     False     False\n",
      "4       False  False     False     False\n",
      "..        ...    ...       ...       ...\n",
      "164     False  False     False     False\n",
      "165     False  False     False     False\n",
      "166     False  False     False     False\n",
      "167     False  False     False     False\n",
      "168     False  False     False     False\n",
      "\n",
      "[169 rows x 4 columns]\n"
     ]
    }
   ],
   "source": [
    "print(df.isnull())"
   ]
  },
  {
   "cell_type": "code",
   "execution_count": 73,
   "id": "6f231ab5",
   "metadata": {},
   "outputs": [
    {
     "name": "stdout",
     "output_type": "stream",
     "text": [
      "     Duration  Pulse  Maxpulse  Calories\n",
      "0          60    110       130     409.1\n",
      "1          60    117       145     479.0\n",
      "2          60    103       135     340.0\n",
      "3          45    109       175     282.4\n",
      "4          45    117       148     406.0\n",
      "5          60    102       127     300.0\n",
      "6          60    110       136     374.0\n",
      "7          45    104       134     253.3\n",
      "8          30    109       133     195.1\n",
      "9          60     98       124     269.0\n",
      "10         60    103       147     329.3\n",
      "11         60    100       120     250.7\n",
      "12         60    106       128     345.3\n",
      "13         60    104       132     379.3\n",
      "14         60     98       123     275.0\n",
      "15         60     98       120     215.2\n",
      "16         60    100       120     300.0\n",
      "17         45     90       112       NaN\n",
      "18         60    103       123     323.0\n",
      "19         45     97       125     243.0\n",
      "20         60    108       131     364.2\n",
      "21         45    100       119     282.0\n",
      "22         60    130       101     300.0\n",
      "23         45    105       132     246.0\n",
      "24         60    102       126     334.5\n",
      "25         60    100       120     250.0\n",
      "26         60     92       118     241.0\n",
      "27         60    103       132       NaN\n",
      "28         60    100       132     280.0\n",
      "29         60    102       129     380.3\n",
      "30         60     92       115     243.0\n",
      "31         45     90       112     180.1\n",
      "32         60    101       124     299.0\n",
      "33         60     93       113     223.0\n",
      "34         60    107       136     361.0\n",
      "35         60    114       140     415.0\n",
      "36         60    102       127     300.0\n",
      "37         60    100       120     300.0\n",
      "38         60    100       120     300.0\n",
      "39         45    104       129     266.0\n",
      "40         45     90       112     180.1\n",
      "41         60     98       126     286.0\n",
      "42         60    100       122     329.4\n",
      "43         60    111       138     400.0\n",
      "44         60    111       131     397.0\n",
      "45         60     99       119     273.0\n",
      "46         60    109       153     387.6\n",
      "47         45    111       136     300.0\n",
      "48         45    108       129     298.0\n",
      "49         60    111       139     397.6\n",
      "50         60    107       136     380.2\n",
      "51         80    123       146     643.1\n",
      "52         60    106       130     263.0\n",
      "53         60    118       151     486.0\n",
      "54         30    136       175     238.0\n",
      "55         60    121       146     450.7\n",
      "56         60    118       121     413.0\n",
      "57         45    115       144     305.0\n",
      "58         20    153       172     226.4\n",
      "59         45    123       152     321.0\n",
      "60        210    108       160    1376.0\n",
      "61        160    110       137    1034.4\n",
      "62        160    109       135     853.0\n",
      "63         45    118       141     341.0\n",
      "64         20    110       130     131.4\n",
      "65        180     90       130     800.4\n",
      "66        150    105       135     873.4\n",
      "67        150    107       130     816.0\n",
      "68         20    106       136     110.4\n",
      "69        300    108       143    1500.2\n",
      "70        150     97       129    1115.0\n",
      "71         60    109       153     387.6\n",
      "72         90    100       127     700.0\n",
      "73        150     97       127     953.2\n",
      "74         45    114       146     304.0\n",
      "75         90     98       125     563.2\n",
      "76         45    105       134     251.0\n",
      "77         45    110       141     300.0\n",
      "78        120    100       130     500.4\n",
      "79        270    100       131    1729.0\n",
      "80         30    159       182     319.2\n",
      "81         45    149       169     344.0\n",
      "82         30    103       139     151.1\n",
      "83        120    100       130     500.0\n",
      "84         45    100       120     225.3\n",
      "85         30    151       170     300.0\n",
      "86         45    102       136     234.0\n",
      "87        120    100       157    1000.1\n",
      "88         45    129       103     242.0\n",
      "89         20     83       107      50.3\n",
      "90        180    101       127     600.1\n",
      "91         45    107       137       NaN\n",
      "92         30     90       107     105.3\n",
      "93         15     80       100      50.5\n",
      "94         20    150       171     127.4\n",
      "95         20    151       168     229.4\n",
      "96         30     95       128     128.2\n",
      "97         25    152       168     244.2\n",
      "98         30    109       131     188.2\n",
      "99         90     93       124     604.1\n",
      "100        20     95       112      77.7\n",
      "101        90     90       110     500.0\n",
      "102        90     90       100     500.0\n",
      "103        90     90       100     500.4\n",
      "104        30     92       108      92.7\n",
      "105        30     93       128     124.0\n",
      "106       180     90       120     800.3\n",
      "107        30     90       120      86.2\n",
      "108        90     90       120     500.3\n",
      "109       210    137       184    1860.4\n",
      "110        60    102       124     325.2\n",
      "111        45    107       124     275.0\n",
      "112        15    124       139     124.2\n",
      "113        45    100       120     225.3\n",
      "114        60    108       131     367.6\n",
      "115        60    108       151     351.7\n",
      "116        60    116       141     443.0\n",
      "117        60     97       122     277.4\n",
      "118        60    105       125       NaN\n",
      "119        60    103       124     332.7\n",
      "120        30    112       137     193.9\n",
      "121        45    100       120     100.7\n",
      "122        60    119       169     336.7\n",
      "123        60    107       127     344.9\n",
      "124        60    111       151     368.5\n",
      "125        60     98       122     271.0\n",
      "126        60     97       124     275.3\n",
      "127        60    109       127     382.0\n",
      "128        90     99       125     466.4\n",
      "129        60    114       151     384.0\n",
      "130        60    104       134     342.5\n",
      "131        60    107       138     357.5\n",
      "132        60    103       133     335.0\n",
      "133        60    106       132     327.5\n",
      "134        60    103       136     339.0\n",
      "135        20    136       156     189.0\n",
      "136        45    117       143     317.7\n",
      "137        45    115       137     318.0\n",
      "138        45    113       138     308.0\n",
      "139        20    141       162     222.4\n",
      "140        60    108       135     390.0\n",
      "141        60     97       127       NaN\n",
      "142        45    100       120     250.4\n",
      "143        45    122       149     335.4\n",
      "144        60    136       170     470.2\n",
      "145        45    106       126     270.8\n",
      "146        60    107       136     400.0\n",
      "147        60    112       146     361.9\n",
      "148        30    103       127     185.0\n",
      "149        60    110       150     409.4\n",
      "150        60    106       134     343.0\n",
      "151        60    109       129     353.2\n",
      "152        60    109       138     374.0\n",
      "153        30    150       167     275.8\n",
      "154        60    105       128     328.0\n",
      "155        60    111       151     368.5\n",
      "156        60     97       131     270.4\n",
      "157        60    100       120     270.4\n",
      "158        60    114       150     382.8\n",
      "159        30     80       120     240.9\n",
      "160        30     85       120     250.4\n",
      "161        45     90       130     260.4\n",
      "162        45     95       130     270.0\n",
      "163        45    100       140     280.9\n",
      "164        60    105       140     290.8\n",
      "165        60    110       145     300.0\n",
      "166        60    115       145     310.2\n",
      "167        75    120       150     320.4\n",
      "168        75    125       150     330.4\n"
     ]
    }
   ],
   "source": [
    "print(df.to_string())"
   ]
  },
  {
   "cell_type": "markdown",
   "id": "73dc0695",
   "metadata": {},
   "source": [
    "## Data cleaning"
   ]
  },
  {
   "cell_type": "code",
   "execution_count": null,
   "id": "c5cbd894",
   "metadata": {},
   "outputs": [],
   "source": [
    "#Empty Cells\n",
    "#data in wrong format\n",
    "#Wrong Data\n",
    "#duplicates\n"
   ]
  },
  {
   "cell_type": "code",
   "execution_count": 72,
   "id": "87eff51a",
   "metadata": {},
   "outputs": [
    {
     "name": "stdout",
     "output_type": "stream",
     "text": [
      "     Duration  Pulse  Maxpulse  Calories\n",
      "0          60    110       130     409.1\n",
      "1          60    117       145     479.0\n",
      "2          60    103       135     340.0\n",
      "3          45    109       175     282.4\n",
      "4          45    117       148     406.0\n",
      "5          60    102       127     300.0\n",
      "6          60    110       136     374.0\n",
      "7          45    104       134     253.3\n",
      "8          30    109       133     195.1\n",
      "9          60     98       124     269.0\n",
      "10         60    103       147     329.3\n",
      "11         60    100       120     250.7\n",
      "12         60    106       128     345.3\n",
      "13         60    104       132     379.3\n",
      "14         60     98       123     275.0\n",
      "15         60     98       120     215.2\n",
      "16         60    100       120     300.0\n",
      "18         60    103       123     323.0\n",
      "19         45     97       125     243.0\n",
      "20         60    108       131     364.2\n",
      "21         45    100       119     282.0\n",
      "22         60    130       101     300.0\n",
      "23         45    105       132     246.0\n",
      "24         60    102       126     334.5\n",
      "25         60    100       120     250.0\n",
      "26         60     92       118     241.0\n",
      "28         60    100       132     280.0\n",
      "29         60    102       129     380.3\n",
      "30         60     92       115     243.0\n",
      "31         45     90       112     180.1\n",
      "32         60    101       124     299.0\n",
      "33         60     93       113     223.0\n",
      "34         60    107       136     361.0\n",
      "35         60    114       140     415.0\n",
      "36         60    102       127     300.0\n",
      "37         60    100       120     300.0\n",
      "38         60    100       120     300.0\n",
      "39         45    104       129     266.0\n",
      "40         45     90       112     180.1\n",
      "41         60     98       126     286.0\n",
      "42         60    100       122     329.4\n",
      "43         60    111       138     400.0\n",
      "44         60    111       131     397.0\n",
      "45         60     99       119     273.0\n",
      "46         60    109       153     387.6\n",
      "47         45    111       136     300.0\n",
      "48         45    108       129     298.0\n",
      "49         60    111       139     397.6\n",
      "50         60    107       136     380.2\n",
      "51         80    123       146     643.1\n",
      "52         60    106       130     263.0\n",
      "53         60    118       151     486.0\n",
      "54         30    136       175     238.0\n",
      "55         60    121       146     450.7\n",
      "56         60    118       121     413.0\n",
      "57         45    115       144     305.0\n",
      "58         20    153       172     226.4\n",
      "59         45    123       152     321.0\n",
      "60        210    108       160    1376.0\n",
      "61        160    110       137    1034.4\n",
      "62        160    109       135     853.0\n",
      "63         45    118       141     341.0\n",
      "64         20    110       130     131.4\n",
      "65        180     90       130     800.4\n",
      "66        150    105       135     873.4\n",
      "67        150    107       130     816.0\n",
      "68         20    106       136     110.4\n",
      "69        300    108       143    1500.2\n",
      "70        150     97       129    1115.0\n",
      "71         60    109       153     387.6\n",
      "72         90    100       127     700.0\n",
      "73        150     97       127     953.2\n",
      "74         45    114       146     304.0\n",
      "75         90     98       125     563.2\n",
      "76         45    105       134     251.0\n",
      "77         45    110       141     300.0\n",
      "78        120    100       130     500.4\n",
      "79        270    100       131    1729.0\n",
      "80         30    159       182     319.2\n",
      "81         45    149       169     344.0\n",
      "82         30    103       139     151.1\n",
      "83        120    100       130     500.0\n",
      "84         45    100       120     225.3\n",
      "85         30    151       170     300.0\n",
      "86         45    102       136     234.0\n",
      "87        120    100       157    1000.1\n",
      "88         45    129       103     242.0\n",
      "89         20     83       107      50.3\n",
      "90        180    101       127     600.1\n",
      "92         30     90       107     105.3\n",
      "93         15     80       100      50.5\n",
      "94         20    150       171     127.4\n",
      "95         20    151       168     229.4\n",
      "96         30     95       128     128.2\n",
      "97         25    152       168     244.2\n",
      "98         30    109       131     188.2\n",
      "99         90     93       124     604.1\n",
      "100        20     95       112      77.7\n",
      "101        90     90       110     500.0\n",
      "102        90     90       100     500.0\n",
      "103        90     90       100     500.4\n",
      "104        30     92       108      92.7\n",
      "105        30     93       128     124.0\n",
      "106       180     90       120     800.3\n",
      "107        30     90       120      86.2\n",
      "108        90     90       120     500.3\n",
      "109       210    137       184    1860.4\n",
      "110        60    102       124     325.2\n",
      "111        45    107       124     275.0\n",
      "112        15    124       139     124.2\n",
      "113        45    100       120     225.3\n",
      "114        60    108       131     367.6\n",
      "115        60    108       151     351.7\n",
      "116        60    116       141     443.0\n",
      "117        60     97       122     277.4\n",
      "119        60    103       124     332.7\n",
      "120        30    112       137     193.9\n",
      "121        45    100       120     100.7\n",
      "122        60    119       169     336.7\n",
      "123        60    107       127     344.9\n",
      "124        60    111       151     368.5\n",
      "125        60     98       122     271.0\n",
      "126        60     97       124     275.3\n",
      "127        60    109       127     382.0\n",
      "128        90     99       125     466.4\n",
      "129        60    114       151     384.0\n",
      "130        60    104       134     342.5\n",
      "131        60    107       138     357.5\n",
      "132        60    103       133     335.0\n",
      "133        60    106       132     327.5\n",
      "134        60    103       136     339.0\n",
      "135        20    136       156     189.0\n",
      "136        45    117       143     317.7\n",
      "137        45    115       137     318.0\n",
      "138        45    113       138     308.0\n",
      "139        20    141       162     222.4\n",
      "140        60    108       135     390.0\n",
      "142        45    100       120     250.4\n",
      "143        45    122       149     335.4\n",
      "144        60    136       170     470.2\n",
      "145        45    106       126     270.8\n",
      "146        60    107       136     400.0\n",
      "147        60    112       146     361.9\n",
      "148        30    103       127     185.0\n",
      "149        60    110       150     409.4\n",
      "150        60    106       134     343.0\n",
      "151        60    109       129     353.2\n",
      "152        60    109       138     374.0\n",
      "153        30    150       167     275.8\n",
      "154        60    105       128     328.0\n",
      "155        60    111       151     368.5\n",
      "156        60     97       131     270.4\n",
      "157        60    100       120     270.4\n",
      "158        60    114       150     382.8\n",
      "159        30     80       120     240.9\n",
      "160        30     85       120     250.4\n",
      "161        45     90       130     260.4\n",
      "162        45     95       130     270.0\n",
      "163        45    100       140     280.9\n",
      "164        60    105       140     290.8\n",
      "165        60    110       145     300.0\n",
      "166        60    115       145     310.2\n",
      "167        75    120       150     320.4\n",
      "168        75    125       150     330.4\n"
     ]
    }
   ],
   "source": [
    "#Empty cells\n",
    "# 1.remove empty cells\n",
    "new_df = df.dropna()\n",
    "print(new_df.to_string())"
   ]
  },
  {
   "cell_type": "code",
   "execution_count": null,
   "id": "eb44919b",
   "metadata": {},
   "outputs": [],
   "source": [
    "#by default dropna produce new data frame  with removed null values\n",
    "#but if we need to remove nana in original data then we can use (inplace = True agrument)"
   ]
  },
  {
   "cell_type": "code",
   "execution_count": null,
   "id": "0808b672",
   "metadata": {},
   "outputs": [],
   "source": [
    "# replace empty values\n",
    "#fillna() allows us to replace empty cell with values"
   ]
  },
  {
   "cell_type": "code",
   "execution_count": 77,
   "id": "db20ad8f",
   "metadata": {},
   "outputs": [
    {
     "name": "stdout",
     "output_type": "stream",
     "text": [
      "     Duration  Pulse  Maxpulse  Calories\n",
      "0          60    110       130     409.1\n",
      "1          60    117       145     479.0\n",
      "2          60    103       135     340.0\n",
      "3          45    109       175     282.4\n",
      "4          45    117       148     406.0\n",
      "5          60    102       127     300.0\n",
      "6          60    110       136     374.0\n",
      "7          45    104       134     253.3\n",
      "8          30    109       133     195.1\n",
      "9          60     98       124     269.0\n",
      "10         60    103       147     329.3\n",
      "11         60    100       120     250.7\n",
      "12         60    106       128     345.3\n",
      "13         60    104       132     379.3\n",
      "14         60     98       123     275.0\n",
      "15         60     98       120     215.2\n",
      "16         60    100       120     300.0\n",
      "17         45     90       112     130.0\n",
      "18         60    103       123     323.0\n",
      "19         45     97       125     243.0\n",
      "20         60    108       131     364.2\n",
      "21         45    100       119     282.0\n",
      "22         60    130       101     300.0\n",
      "23         45    105       132     246.0\n",
      "24         60    102       126     334.5\n",
      "25         60    100       120     250.0\n",
      "26         60     92       118     241.0\n",
      "27         60    103       132     130.0\n",
      "28         60    100       132     280.0\n",
      "29         60    102       129     380.3\n",
      "30         60     92       115     243.0\n",
      "31         45     90       112     180.1\n",
      "32         60    101       124     299.0\n",
      "33         60     93       113     223.0\n",
      "34         60    107       136     361.0\n",
      "35         60    114       140     415.0\n",
      "36         60    102       127     300.0\n",
      "37         60    100       120     300.0\n",
      "38         60    100       120     300.0\n",
      "39         45    104       129     266.0\n",
      "40         45     90       112     180.1\n",
      "41         60     98       126     286.0\n",
      "42         60    100       122     329.4\n",
      "43         60    111       138     400.0\n",
      "44         60    111       131     397.0\n",
      "45         60     99       119     273.0\n",
      "46         60    109       153     387.6\n",
      "47         45    111       136     300.0\n",
      "48         45    108       129     298.0\n",
      "49         60    111       139     397.6\n",
      "50         60    107       136     380.2\n",
      "51         80    123       146     643.1\n",
      "52         60    106       130     263.0\n",
      "53         60    118       151     486.0\n",
      "54         30    136       175     238.0\n",
      "55         60    121       146     450.7\n",
      "56         60    118       121     413.0\n",
      "57         45    115       144     305.0\n",
      "58         20    153       172     226.4\n",
      "59         45    123       152     321.0\n",
      "60        210    108       160    1376.0\n",
      "61        160    110       137    1034.4\n",
      "62        160    109       135     853.0\n",
      "63         45    118       141     341.0\n",
      "64         20    110       130     131.4\n",
      "65        180     90       130     800.4\n",
      "66        150    105       135     873.4\n",
      "67        150    107       130     816.0\n",
      "68         20    106       136     110.4\n",
      "69        300    108       143    1500.2\n",
      "70        150     97       129    1115.0\n",
      "71         60    109       153     387.6\n",
      "72         90    100       127     700.0\n",
      "73        150     97       127     953.2\n",
      "74         45    114       146     304.0\n",
      "75         90     98       125     563.2\n",
      "76         45    105       134     251.0\n",
      "77         45    110       141     300.0\n",
      "78        120    100       130     500.4\n",
      "79        270    100       131    1729.0\n",
      "80         30    159       182     319.2\n",
      "81         45    149       169     344.0\n",
      "82         30    103       139     151.1\n",
      "83        120    100       130     500.0\n",
      "84         45    100       120     225.3\n",
      "85         30    151       170     300.0\n",
      "86         45    102       136     234.0\n",
      "87        120    100       157    1000.1\n",
      "88         45    129       103     242.0\n",
      "89         20     83       107      50.3\n",
      "90        180    101       127     600.1\n",
      "91         45    107       137     130.0\n",
      "92         30     90       107     105.3\n",
      "93         15     80       100      50.5\n",
      "94         20    150       171     127.4\n",
      "95         20    151       168     229.4\n",
      "96         30     95       128     128.2\n",
      "97         25    152       168     244.2\n",
      "98         30    109       131     188.2\n",
      "99         90     93       124     604.1\n",
      "100        20     95       112      77.7\n",
      "101        90     90       110     500.0\n",
      "102        90     90       100     500.0\n",
      "103        90     90       100     500.4\n",
      "104        30     92       108      92.7\n",
      "105        30     93       128     124.0\n",
      "106       180     90       120     800.3\n",
      "107        30     90       120      86.2\n",
      "108        90     90       120     500.3\n",
      "109       210    137       184    1860.4\n",
      "110        60    102       124     325.2\n",
      "111        45    107       124     275.0\n",
      "112        15    124       139     124.2\n",
      "113        45    100       120     225.3\n",
      "114        60    108       131     367.6\n",
      "115        60    108       151     351.7\n",
      "116        60    116       141     443.0\n",
      "117        60     97       122     277.4\n",
      "118        60    105       125     130.0\n",
      "119        60    103       124     332.7\n",
      "120        30    112       137     193.9\n",
      "121        45    100       120     100.7\n",
      "122        60    119       169     336.7\n",
      "123        60    107       127     344.9\n",
      "124        60    111       151     368.5\n",
      "125        60     98       122     271.0\n",
      "126        60     97       124     275.3\n",
      "127        60    109       127     382.0\n",
      "128        90     99       125     466.4\n",
      "129        60    114       151     384.0\n",
      "130        60    104       134     342.5\n",
      "131        60    107       138     357.5\n",
      "132        60    103       133     335.0\n",
      "133        60    106       132     327.5\n",
      "134        60    103       136     339.0\n",
      "135        20    136       156     189.0\n",
      "136        45    117       143     317.7\n",
      "137        45    115       137     318.0\n",
      "138        45    113       138     308.0\n",
      "139        20    141       162     222.4\n",
      "140        60    108       135     390.0\n",
      "141        60     97       127     130.0\n",
      "142        45    100       120     250.4\n",
      "143        45    122       149     335.4\n",
      "144        60    136       170     470.2\n",
      "145        45    106       126     270.8\n",
      "146        60    107       136     400.0\n",
      "147        60    112       146     361.9\n",
      "148        30    103       127     185.0\n",
      "149        60    110       150     409.4\n",
      "150        60    106       134     343.0\n",
      "151        60    109       129     353.2\n",
      "152        60    109       138     374.0\n",
      "153        30    150       167     275.8\n",
      "154        60    105       128     328.0\n",
      "155        60    111       151     368.5\n",
      "156        60     97       131     270.4\n",
      "157        60    100       120     270.4\n",
      "158        60    114       150     382.8\n",
      "159        30     80       120     240.9\n",
      "160        30     85       120     250.4\n",
      "161        45     90       130     260.4\n",
      "162        45     95       130     270.0\n",
      "163        45    100       140     280.9\n",
      "164        60    105       140     290.8\n",
      "165        60    110       145     300.0\n",
      "166        60    115       145     310.2\n",
      "167        75    120       150     320.4\n",
      "168        75    125       150     330.4\n"
     ]
    }
   ],
   "source": [
    "new_df1 = df.fillna(130)\n",
    "print(new_df1.to_string())"
   ]
  },
  {
   "cell_type": "markdown",
   "id": "d77b1697",
   "metadata": {},
   "source": [
    "# 3. replace using mean, median or Mode"
   ]
  },
  {
   "cell_type": "code",
   "execution_count": 81,
   "id": "1254775c",
   "metadata": {},
   "outputs": [
    {
     "data": {
      "text/plain": [
       "375.79024390243916"
      ]
     },
     "execution_count": 81,
     "metadata": {},
     "output_type": "execute_result"
    }
   ],
   "source": [
    "mean_val = df[\"Calories\"].mean()\n",
    "mean_val"
   ]
  },
  {
   "cell_type": "code",
   "execution_count": 86,
   "id": "0e4c5c56",
   "metadata": {},
   "outputs": [
    {
     "name": "stdout",
     "output_type": "stream",
     "text": [
      "     Duration  Pulse  Maxpulse     Calories\n",
      "0          60    110       130   409.100000\n",
      "1          60    117       145   479.000000\n",
      "2          60    103       135   340.000000\n",
      "3          45    109       175   282.400000\n",
      "4          45    117       148   406.000000\n",
      "5          60    102       127   300.000000\n",
      "6          60    110       136   374.000000\n",
      "7          45    104       134   253.300000\n",
      "8          30    109       133   195.100000\n",
      "9          60     98       124   269.000000\n",
      "10         60    103       147   329.300000\n",
      "11         60    100       120   250.700000\n",
      "12         60    106       128   345.300000\n",
      "13         60    104       132   379.300000\n",
      "14         60     98       123   275.000000\n",
      "15         60     98       120   215.200000\n",
      "16         60    100       120   300.000000\n",
      "17         45     90       112   375.790244\n",
      "18         60    103       123   323.000000\n",
      "19         45     97       125   243.000000\n",
      "20         60    108       131   364.200000\n",
      "21         45    100       119   282.000000\n",
      "22         60    130       101   300.000000\n",
      "23         45    105       132   246.000000\n",
      "24         60    102       126   334.500000\n",
      "25         60    100       120   250.000000\n",
      "26         60     92       118   241.000000\n",
      "27         60    103       132   375.790244\n",
      "28         60    100       132   280.000000\n",
      "29         60    102       129   380.300000\n",
      "30         60     92       115   243.000000\n",
      "31         45     90       112   180.100000\n",
      "32         60    101       124   299.000000\n",
      "33         60     93       113   223.000000\n",
      "34         60    107       136   361.000000\n",
      "35         60    114       140   415.000000\n",
      "36         60    102       127   300.000000\n",
      "37         60    100       120   300.000000\n",
      "38         60    100       120   300.000000\n",
      "39         45    104       129   266.000000\n",
      "40         45     90       112   180.100000\n",
      "41         60     98       126   286.000000\n",
      "42         60    100       122   329.400000\n",
      "43         60    111       138   400.000000\n",
      "44         60    111       131   397.000000\n",
      "45         60     99       119   273.000000\n",
      "46         60    109       153   387.600000\n",
      "47         45    111       136   300.000000\n",
      "48         45    108       129   298.000000\n",
      "49         60    111       139   397.600000\n",
      "50         60    107       136   380.200000\n",
      "51         80    123       146   643.100000\n",
      "52         60    106       130   263.000000\n",
      "53         60    118       151   486.000000\n",
      "54         30    136       175   238.000000\n",
      "55         60    121       146   450.700000\n",
      "56         60    118       121   413.000000\n",
      "57         45    115       144   305.000000\n",
      "58         20    153       172   226.400000\n",
      "59         45    123       152   321.000000\n",
      "60        210    108       160  1376.000000\n",
      "61        160    110       137  1034.400000\n",
      "62        160    109       135   853.000000\n",
      "63         45    118       141   341.000000\n",
      "64         20    110       130   131.400000\n",
      "65        180     90       130   800.400000\n",
      "66        150    105       135   873.400000\n",
      "67        150    107       130   816.000000\n",
      "68         20    106       136   110.400000\n",
      "69        300    108       143  1500.200000\n",
      "70        150     97       129  1115.000000\n",
      "71         60    109       153   387.600000\n",
      "72         90    100       127   700.000000\n",
      "73        150     97       127   953.200000\n",
      "74         45    114       146   304.000000\n",
      "75         90     98       125   563.200000\n",
      "76         45    105       134   251.000000\n",
      "77         45    110       141   300.000000\n",
      "78        120    100       130   500.400000\n",
      "79        270    100       131  1729.000000\n",
      "80         30    159       182   319.200000\n",
      "81         45    149       169   344.000000\n",
      "82         30    103       139   151.100000\n",
      "83        120    100       130   500.000000\n",
      "84         45    100       120   225.300000\n",
      "85         30    151       170   300.000000\n",
      "86         45    102       136   234.000000\n",
      "87        120    100       157  1000.100000\n",
      "88         45    129       103   242.000000\n",
      "89         20     83       107    50.300000\n",
      "90        180    101       127   600.100000\n",
      "91         45    107       137   375.790244\n",
      "92         30     90       107   105.300000\n",
      "93         15     80       100    50.500000\n",
      "94         20    150       171   127.400000\n",
      "95         20    151       168   229.400000\n",
      "96         30     95       128   128.200000\n",
      "97         25    152       168   244.200000\n",
      "98         30    109       131   188.200000\n",
      "99         90     93       124   604.100000\n",
      "100        20     95       112    77.700000\n",
      "101        90     90       110   500.000000\n",
      "102        90     90       100   500.000000\n",
      "103        90     90       100   500.400000\n",
      "104        30     92       108    92.700000\n",
      "105        30     93       128   124.000000\n",
      "106       180     90       120   800.300000\n",
      "107        30     90       120    86.200000\n",
      "108        90     90       120   500.300000\n",
      "109       210    137       184  1860.400000\n",
      "110        60    102       124   325.200000\n",
      "111        45    107       124   275.000000\n",
      "112        15    124       139   124.200000\n",
      "113        45    100       120   225.300000\n",
      "114        60    108       131   367.600000\n",
      "115        60    108       151   351.700000\n",
      "116        60    116       141   443.000000\n",
      "117        60     97       122   277.400000\n",
      "118        60    105       125   375.790244\n",
      "119        60    103       124   332.700000\n",
      "120        30    112       137   193.900000\n",
      "121        45    100       120   100.700000\n",
      "122        60    119       169   336.700000\n",
      "123        60    107       127   344.900000\n",
      "124        60    111       151   368.500000\n",
      "125        60     98       122   271.000000\n",
      "126        60     97       124   275.300000\n",
      "127        60    109       127   382.000000\n",
      "128        90     99       125   466.400000\n",
      "129        60    114       151   384.000000\n",
      "130        60    104       134   342.500000\n",
      "131        60    107       138   357.500000\n",
      "132        60    103       133   335.000000\n",
      "133        60    106       132   327.500000\n",
      "134        60    103       136   339.000000\n",
      "135        20    136       156   189.000000\n",
      "136        45    117       143   317.700000\n",
      "137        45    115       137   318.000000\n",
      "138        45    113       138   308.000000\n",
      "139        20    141       162   222.400000\n",
      "140        60    108       135   390.000000\n",
      "141        60     97       127   375.790244\n",
      "142        45    100       120   250.400000\n",
      "143        45    122       149   335.400000\n",
      "144        60    136       170   470.200000\n",
      "145        45    106       126   270.800000\n",
      "146        60    107       136   400.000000\n",
      "147        60    112       146   361.900000\n",
      "148        30    103       127   185.000000\n",
      "149        60    110       150   409.400000\n",
      "150        60    106       134   343.000000\n",
      "151        60    109       129   353.200000\n",
      "152        60    109       138   374.000000\n",
      "153        30    150       167   275.800000\n",
      "154        60    105       128   328.000000\n",
      "155        60    111       151   368.500000\n",
      "156        60     97       131   270.400000\n",
      "157        60    100       120   270.400000\n",
      "158        60    114       150   382.800000\n",
      "159        30     80       120   240.900000\n",
      "160        30     85       120   250.400000\n",
      "161        45     90       130   260.400000\n",
      "162        45     95       130   270.000000\n",
      "163        45    100       140   280.900000\n",
      "164        60    105       140   290.800000\n",
      "165        60    110       145   300.000000\n",
      "166        60    115       145   310.200000\n",
      "167        75    120       150   320.400000\n",
      "168        75    125       150   330.400000\n"
     ]
    }
   ],
   "source": [
    "df1 = df.fillna(mean_val)\n",
    "print(df1.to_string())"
   ]
  },
  {
   "cell_type": "markdown",
   "id": "20e92aae",
   "metadata": {},
   "source": [
    "## cleaning worng formated data"
   ]
  },
  {
   "cell_type": "code",
   "execution_count": null,
   "id": "adaf4287",
   "metadata": {},
   "outputs": [],
   "source": [
    "two ways to tackles this issue\n",
    "# 1. remove all rows\n",
    "# convert to right format"
   ]
  },
  {
   "cell_type": "code",
   "execution_count": 87,
   "id": "bb4b3713",
   "metadata": {},
   "outputs": [
    {
     "name": "stdout",
     "output_type": "stream",
     "text": [
      "     Duration  Pulse  Maxpulse  Calories\n",
      "0          60    110       130     409.1\n",
      "1          60    117       145     479.0\n",
      "2          60    103       135     340.0\n",
      "3          45    109       175     282.4\n",
      "4          45    117       148     406.0\n",
      "5          60    102       127     300.0\n",
      "6          60    110       136     374.0\n",
      "7          45    104       134     253.3\n",
      "8          30    109       133     195.1\n",
      "9          60     98       124     269.0\n",
      "10         60    103       147     329.3\n",
      "11         60    100       120     250.7\n",
      "12         60    106       128     345.3\n",
      "13         60    104       132     379.3\n",
      "14         60     98       123     275.0\n",
      "15         60     98       120     215.2\n",
      "16         60    100       120     300.0\n",
      "17         45     90       112       NaN\n",
      "18         60    103       123     323.0\n",
      "19         45     97       125     243.0\n",
      "20         60    108       131     364.2\n",
      "21         45    100       119     282.0\n",
      "22         60    130       101     300.0\n",
      "23         45    105       132     246.0\n",
      "24         60    102       126     334.5\n",
      "25         60    100       120     250.0\n",
      "26         60     92       118     241.0\n",
      "27         60    103       132       NaN\n",
      "28         60    100       132     280.0\n",
      "29         60    102       129     380.3\n",
      "30         60     92       115     243.0\n",
      "31         45     90       112     180.1\n",
      "32         60    101       124     299.0\n",
      "33         60     93       113     223.0\n",
      "34         60    107       136     361.0\n",
      "35         60    114       140     415.0\n",
      "36         60    102       127     300.0\n",
      "37         60    100       120     300.0\n",
      "38         60    100       120     300.0\n",
      "39         45    104       129     266.0\n",
      "40         45     90       112     180.1\n",
      "41         60     98       126     286.0\n",
      "42         60    100       122     329.4\n",
      "43         60    111       138     400.0\n",
      "44         60    111       131     397.0\n",
      "45         60     99       119     273.0\n",
      "46         60    109       153     387.6\n",
      "47         45    111       136     300.0\n",
      "48         45    108       129     298.0\n",
      "49         60    111       139     397.6\n",
      "50         60    107       136     380.2\n",
      "51         80    123       146     643.1\n",
      "52         60    106       130     263.0\n",
      "53         60    118       151     486.0\n",
      "54         30    136       175     238.0\n",
      "55         60    121       146     450.7\n",
      "56         60    118       121     413.0\n",
      "57         45    115       144     305.0\n",
      "58         20    153       172     226.4\n",
      "59         45    123       152     321.0\n",
      "60        210    108       160    1376.0\n",
      "61        160    110       137    1034.4\n",
      "62        160    109       135     853.0\n",
      "63         45    118       141     341.0\n",
      "64         20    110       130     131.4\n",
      "65        180     90       130     800.4\n",
      "66        150    105       135     873.4\n",
      "67        150    107       130     816.0\n",
      "68         20    106       136     110.4\n",
      "69        300    108       143    1500.2\n",
      "70        150     97       129    1115.0\n",
      "71         60    109       153     387.6\n",
      "72         90    100       127     700.0\n",
      "73        150     97       127     953.2\n",
      "74         45    114       146     304.0\n",
      "75         90     98       125     563.2\n",
      "76         45    105       134     251.0\n",
      "77         45    110       141     300.0\n",
      "78        120    100       130     500.4\n",
      "79        270    100       131    1729.0\n",
      "80         30    159       182     319.2\n",
      "81         45    149       169     344.0\n",
      "82         30    103       139     151.1\n",
      "83        120    100       130     500.0\n",
      "84         45    100       120     225.3\n",
      "85         30    151       170     300.0\n",
      "86         45    102       136     234.0\n",
      "87        120    100       157    1000.1\n",
      "88         45    129       103     242.0\n",
      "89         20     83       107      50.3\n",
      "90        180    101       127     600.1\n",
      "91         45    107       137       NaN\n",
      "92         30     90       107     105.3\n",
      "93         15     80       100      50.5\n",
      "94         20    150       171     127.4\n",
      "95         20    151       168     229.4\n",
      "96         30     95       128     128.2\n",
      "97         25    152       168     244.2\n",
      "98         30    109       131     188.2\n",
      "99         90     93       124     604.1\n",
      "100        20     95       112      77.7\n",
      "101        90     90       110     500.0\n",
      "102        90     90       100     500.0\n",
      "103        90     90       100     500.4\n",
      "104        30     92       108      92.7\n",
      "105        30     93       128     124.0\n",
      "106       180     90       120     800.3\n",
      "107        30     90       120      86.2\n",
      "108        90     90       120     500.3\n",
      "109       210    137       184    1860.4\n",
      "110        60    102       124     325.2\n",
      "111        45    107       124     275.0\n",
      "112        15    124       139     124.2\n",
      "113        45    100       120     225.3\n",
      "114        60    108       131     367.6\n",
      "115        60    108       151     351.7\n",
      "116        60    116       141     443.0\n",
      "117        60     97       122     277.4\n",
      "118        60    105       125       NaN\n",
      "119        60    103       124     332.7\n",
      "120        30    112       137     193.9\n",
      "121        45    100       120     100.7\n",
      "122        60    119       169     336.7\n",
      "123        60    107       127     344.9\n",
      "124        60    111       151     368.5\n",
      "125        60     98       122     271.0\n",
      "126        60     97       124     275.3\n",
      "127        60    109       127     382.0\n",
      "128        90     99       125     466.4\n",
      "129        60    114       151     384.0\n",
      "130        60    104       134     342.5\n",
      "131        60    107       138     357.5\n",
      "132        60    103       133     335.0\n",
      "133        60    106       132     327.5\n",
      "134        60    103       136     339.0\n",
      "135        20    136       156     189.0\n",
      "136        45    117       143     317.7\n",
      "137        45    115       137     318.0\n",
      "138        45    113       138     308.0\n",
      "139        20    141       162     222.4\n",
      "140        60    108       135     390.0\n",
      "141        60     97       127       NaN\n",
      "142        45    100       120     250.4\n",
      "143        45    122       149     335.4\n",
      "144        60    136       170     470.2\n",
      "145        45    106       126     270.8\n",
      "146        60    107       136     400.0\n",
      "147        60    112       146     361.9\n",
      "148        30    103       127     185.0\n",
      "149        60    110       150     409.4\n",
      "150        60    106       134     343.0\n",
      "151        60    109       129     353.2\n",
      "152        60    109       138     374.0\n",
      "153        30    150       167     275.8\n",
      "154        60    105       128     328.0\n",
      "155        60    111       151     368.5\n",
      "156        60     97       131     270.4\n",
      "157        60    100       120     270.4\n",
      "158        60    114       150     382.8\n",
      "159        30     80       120     240.9\n",
      "160        30     85       120     250.4\n",
      "161        45     90       130     260.4\n",
      "162        45     95       130     270.0\n",
      "163        45    100       140     280.9\n",
      "164        60    105       140     290.8\n",
      "165        60    110       145     300.0\n",
      "166        60    115       145     310.2\n",
      "167        75    120       150     320.4\n",
      "168        75    125       150     330.4\n"
     ]
    }
   ],
   "source": [
    "print(df.to_string())"
   ]
  },
  {
   "cell_type": "code",
   "execution_count": null,
   "id": "cc3e539c",
   "metadata": {},
   "outputs": [],
   "source": [
    "#1. wrong date format \n",
    "df[\"date\"] = pd.to_datetime(df[\"date\"])\n",
    "print(df.to_string())"
   ]
  },
  {
   "cell_type": "code",
   "execution_count": null,
   "id": "055ba009",
   "metadata": {},
   "outputs": [],
   "source": [
    "#2. can remove null value from date columns or any column \n",
    "#using df.dropna(subset=[\"date\"],inplace=True)"
   ]
  },
  {
   "cell_type": "markdown",
   "id": "6be86886",
   "metadata": {},
   "source": [
    "# Cleaning Wrong Data\n",
    "\n",
    "wrong data does not have to be a empty cells or wrong format"
   ]
  },
  {
   "cell_type": "code",
   "execution_count": null,
   "id": "73f6a716",
   "metadata": {},
   "outputs": [],
   "source": [
    "# # replacing wrong values using loc on specific cell \n",
    "# #df.loc[7,\"duration\"] = 45\n",
    "# we can loop through column to to convert to right data \n",
    "# for x in df.index:\n",
    "#     if df.loc[x,\"duration\"] >120:\n",
    "#         df.loc[x,\"duration\"] = 120"
   ]
  },
  {
   "cell_type": "code",
   "execution_count": null,
   "id": "a35cf8fb",
   "metadata": {},
   "outputs": [],
   "source": [
    "# removing data\n",
    "# antoher way is remove the row that contain wrong data\n",
    "# for x in df.index:\n",
    "#   if df.loc[x, \"Duration\"] > 120:\n",
    "#     df.drop(x, inplace = True)\n"
   ]
  },
  {
   "cell_type": "code",
   "execution_count": null,
   "id": "5906e97a",
   "metadata": {},
   "outputs": [],
   "source": [
    "# 4. remove the duplicates\n",
    "# duplicated()method can be use to check duplicate values\n",
    "# print(df.duplicated())\n",
    "\n",
    "# 5.drop_duplicates() can be used to remove duplicate\n",
    "# df.drop_duplicates(inplace = True)\n"
   ]
  },
  {
   "cell_type": "code",
   "execution_count": null,
   "id": "d17675e2",
   "metadata": {},
   "outputs": [],
   "source": []
  }
 ],
 "metadata": {
  "kernelspec": {
   "display_name": "Python 3",
   "language": "python",
   "name": "python3"
  },
  "language_info": {
   "codemirror_mode": {
    "name": "ipython",
    "version": 3
   },
   "file_extension": ".py",
   "mimetype": "text/x-python",
   "name": "python",
   "nbconvert_exporter": "python",
   "pygments_lexer": "ipython3",
   "version": "3.8.8"
  }
 },
 "nbformat": 4,
 "nbformat_minor": 5
}
