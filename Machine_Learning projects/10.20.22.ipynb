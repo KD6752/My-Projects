{
 "cells": [
  {
   "cell_type": "code",
   "execution_count": 1,
   "id": "88dc271f",
   "metadata": {},
   "outputs": [],
   "source": [
    "list1= [3,2,5,7,9,4]"
   ]
  },
  {
   "cell_type": "code",
   "execution_count": 2,
   "id": "a6035aea",
   "metadata": {},
   "outputs": [
    {
     "name": "stdout",
     "output_type": "stream",
     "text": [
      "6\n",
      "4\n",
      "10\n",
      "14\n",
      "18\n",
      "8\n"
     ]
    }
   ],
   "source": [
    "for num in list1:\n",
    "    print(num*2)"
   ]
  },
  {
   "cell_type": "code",
   "execution_count": 3,
   "id": "b90f3de2",
   "metadata": {},
   "outputs": [
    {
     "name": "stdout",
     "output_type": "stream",
     "text": [
      "2\n",
      "4\n"
     ]
    }
   ],
   "source": [
    "for num1 in list1:\n",
    "    if num1%2==0:\n",
    "        print(num1)"
   ]
  },
  {
   "cell_type": "code",
   "execution_count": 8,
   "id": "a39becb1",
   "metadata": {},
   "outputs": [
    {
     "name": "stdout",
     "output_type": "stream",
     "text": [
      "2\n",
      "4\n"
     ]
    }
   ],
   "source": [
    "#Question 3\n",
    "even=0\n",
    "odd=0\n",
    "\n",
    "for num2 in list1:\n",
    "    if num2%2==0:\n",
    "        even+=1\n",
    "    else:\n",
    "        odd+=1\n",
    "print(even)\n",
    "print(odd)"
   ]
  },
  {
   "cell_type": "code",
   "execution_count": 12,
   "id": "64453457",
   "metadata": {},
   "outputs": [
    {
     "name": "stdout",
     "output_type": "stream",
     "text": [
      "30\n"
     ]
    }
   ],
   "source": [
    "#question 4\n",
    "sum1 = 0\n",
    "for num3 in list1:\n",
    "    sum1+=num3\n",
    "print(sum1)"
   ]
  },
  {
   "cell_type": "code",
   "execution_count": null,
   "id": "1984ad01",
   "metadata": {},
   "outputs": [],
   "source": []
  }
 ],
 "metadata": {
  "kernelspec": {
   "display_name": "Python 3",
   "language": "python",
   "name": "python3"
  },
  "language_info": {
   "codemirror_mode": {
    "name": "ipython",
    "version": 3
   },
   "file_extension": ".py",
   "mimetype": "text/x-python",
   "name": "python",
   "nbconvert_exporter": "python",
   "pygments_lexer": "ipython3",
   "version": "3.8.8"
  }
 },
 "nbformat": 4,
 "nbformat_minor": 5
}
