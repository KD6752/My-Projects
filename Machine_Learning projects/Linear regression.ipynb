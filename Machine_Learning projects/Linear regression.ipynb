{
 "cells": [
  {
   "cell_type": "code",
   "execution_count": null,
   "id": "6beef1c0",
   "metadata": {},
   "outputs": [],
   "source": [
    "#profit estimation of a company \n",
    "#based on Rand D marketing state etc\n",
    "# Regreesion\n",
    "# simple linear regression\n",
    "# multiple linear regression\n",
    "# polynomia linear regression\n",
    "# applications\n",
    "# Economic growth\n",
    "# Product price\n",
    "# HOusing sales\n",
    "# Score Prediction\n"
   ]
  },
  {
   "cell_type": "code",
   "execution_count": null,
   "id": "e87f1211",
   "metadata": {},
   "outputs": [],
   "source": []
  }
 ],
 "metadata": {
  "kernelspec": {
   "display_name": "Python 3",
   "language": "python",
   "name": "python3"
  },
  "language_info": {
   "codemirror_mode": {
    "name": "ipython",
    "version": 3
   },
   "file_extension": ".py",
   "mimetype": "text/x-python",
   "name": "python",
   "nbconvert_exporter": "python",
   "pygments_lexer": "ipython3",
   "version": "3.8.8"
  }
 },
 "nbformat": 4,
 "nbformat_minor": 5
}
